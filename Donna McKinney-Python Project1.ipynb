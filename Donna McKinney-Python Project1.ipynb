{
 "cells": [
  {
   "cell_type": "code",
   "execution_count": 175,
   "id": "2b2e8d64",
   "metadata": {},
   "outputs": [],
   "source": [
    "#1. Set up libraries\n",
    "#Import libraries\n",
    "import pandas as pd\n",
    "import re\n",
    "import numpy as np\n",
    "from matplotlib import colors\n",
    "from matplotlib.ticker import PercentFormatter\n",
    "import seaborn as sns\n",
    "import matplotlib.pyplot as plt\n",
    "plt.style.use('classic')\n",
    "%matplotlib inline\n",
    "pd.set_option('display.max_rows', None)\n",
    "pd.set_option('display.max_columns', None)\n",
    "pd.set_option('display.width', -1)"
   ]
  },
  {
   "cell_type": "markdown",
   "id": "ca9bc69e",
   "metadata": {},
   "source": [
    "Research question - Compare the the activity and performance of younger students in a stem related subject (Earth Science) across the 5 Boroughs.  I decided to look at the younger students of the dataset to get some insights as to whether or not Stem related subjects are being instroduced early in the academic life of a student, hoping that the dataset will reveal how ambitious this initaitive is by determining how young students are entered for some subjects and how many students in any given year or Borough."
   ]
  },
  {
   "cell_type": "code",
   "execution_count": 176,
   "id": "13a61d4c",
   "metadata": {},
   "outputs": [],
   "source": [
    "#2. Upload\n",
    "#Read csv file\n",
    "#Viewing the data - 212,331 rows, 15 columns\n",
    "df=pd.read_csv(\"https://raw.githubusercontent.com/CunyLaguardiaDataAnalytics/datasets/master/2014-15_To_2016-17_School-_Level_NYC_Regents_Report_For_All_Variables.csv\")"
   ]
  },
  {
   "cell_type": "code",
   "execution_count": 177,
   "id": "547d027f",
   "metadata": {},
   "outputs": [
    {
     "data": {
      "text/plain": [
       "(212331, 15)"
      ]
     },
     "execution_count": 177,
     "metadata": {},
     "output_type": "execute_result"
    }
   ],
   "source": [
    "#3. Exploring original dataset\n",
    "df.shape"
   ]
  },
  {
   "cell_type": "code",
   "execution_count": 178,
   "id": "66691052",
   "metadata": {},
   "outputs": [
    {
     "data": {
      "text/html": [
       "<div>\n",
       "<style scoped>\n",
       "    .dataframe tbody tr th:only-of-type {\n",
       "        vertical-align: middle;\n",
       "    }\n",
       "\n",
       "    .dataframe tbody tr th {\n",
       "        vertical-align: top;\n",
       "    }\n",
       "\n",
       "    .dataframe thead th {\n",
       "        text-align: right;\n",
       "    }\n",
       "</style>\n",
       "<table border=\"1\" class=\"dataframe\">\n",
       "  <thead>\n",
       "    <tr style=\"text-align: right;\">\n",
       "      <th></th>\n",
       "      <th>School DBN</th>\n",
       "      <th>School Name</th>\n",
       "      <th>School Level</th>\n",
       "      <th>Regents Exam</th>\n",
       "      <th>Year</th>\n",
       "      <th>Total Tested</th>\n",
       "      <th>Mean Score</th>\n",
       "      <th>Number Scoring Below 65</th>\n",
       "      <th>Percent Scoring Below 65</th>\n",
       "      <th>Number Scoring 65 or Above</th>\n",
       "      <th>Percent Scoring 65 or Above</th>\n",
       "      <th>Number Scoring 80 or Above</th>\n",
       "      <th>Percent Scoring 80 or Above</th>\n",
       "      <th>Number Scoring CR</th>\n",
       "      <th>Percent Scoring CR</th>\n",
       "    </tr>\n",
       "  </thead>\n",
       "  <tbody>\n",
       "    <tr>\n",
       "      <th>0</th>\n",
       "      <td>01M034</td>\n",
       "      <td>P.S. 034 Franklin D. Roosevelt</td>\n",
       "      <td>K-8</td>\n",
       "      <td>Common Core Algebra</td>\n",
       "      <td>2017</td>\n",
       "      <td>4</td>\n",
       "      <td>s</td>\n",
       "      <td>s</td>\n",
       "      <td>s</td>\n",
       "      <td>s</td>\n",
       "      <td>s</td>\n",
       "      <td>s</td>\n",
       "      <td>s</td>\n",
       "      <td>na</td>\n",
       "      <td>na</td>\n",
       "    </tr>\n",
       "    <tr>\n",
       "      <th>1</th>\n",
       "      <td>01M034</td>\n",
       "      <td>P.S. 034 Franklin D. Roosevelt</td>\n",
       "      <td>K-8</td>\n",
       "      <td>Living Environment</td>\n",
       "      <td>2015</td>\n",
       "      <td>16</td>\n",
       "      <td>77.9</td>\n",
       "      <td>1</td>\n",
       "      <td>6.3</td>\n",
       "      <td>15</td>\n",
       "      <td>93.8</td>\n",
       "      <td>7</td>\n",
       "      <td>43.8</td>\n",
       "      <td>na</td>\n",
       "      <td>na</td>\n",
       "    </tr>\n",
       "    <tr>\n",
       "      <th>2</th>\n",
       "      <td>01M034</td>\n",
       "      <td>P.S. 034 Franklin D. Roosevelt</td>\n",
       "      <td>K-8</td>\n",
       "      <td>Living Environment</td>\n",
       "      <td>2016</td>\n",
       "      <td>9</td>\n",
       "      <td>74</td>\n",
       "      <td>1</td>\n",
       "      <td>11.1</td>\n",
       "      <td>8</td>\n",
       "      <td>88.9</td>\n",
       "      <td>2</td>\n",
       "      <td>22.2</td>\n",
       "      <td>na</td>\n",
       "      <td>na</td>\n",
       "    </tr>\n",
       "  </tbody>\n",
       "</table>\n",
       "</div>"
      ],
      "text/plain": [
       "  School DBN  \\\n",
       "0     01M034   \n",
       "1     01M034   \n",
       "2     01M034   \n",
       "\n",
       "                      School Name  \\\n",
       "0  P.S. 034 Franklin D. Roosevelt   \n",
       "1  P.S. 034 Franklin D. Roosevelt   \n",
       "2  P.S. 034 Franklin D. Roosevelt   \n",
       "\n",
       "  School Level  \\\n",
       "0          K-8   \n",
       "1          K-8   \n",
       "2          K-8   \n",
       "\n",
       "          Regents Exam  \\\n",
       "0  Common Core Algebra   \n",
       "1   Living Environment   \n",
       "2   Living Environment   \n",
       "\n",
       "   Year  \\\n",
       "0  2017   \n",
       "1  2015   \n",
       "2  2016   \n",
       "\n",
       "   Total Tested  \\\n",
       "0             4   \n",
       "1            16   \n",
       "2             9   \n",
       "\n",
       "  Mean Score  \\\n",
       "0          s   \n",
       "1       77.9   \n",
       "2         74   \n",
       "\n",
       "  Number Scoring Below 65  \\\n",
       "0                       s   \n",
       "1                       1   \n",
       "2                       1   \n",
       "\n",
       "  Percent Scoring Below 65  \\\n",
       "0                        s   \n",
       "1                      6.3   \n",
       "2                     11.1   \n",
       "\n",
       "  Number Scoring 65 or Above  \\\n",
       "0                          s   \n",
       "1                         15   \n",
       "2                          8   \n",
       "\n",
       "  Percent Scoring 65 or Above  \\\n",
       "0                           s   \n",
       "1                        93.8   \n",
       "2                        88.9   \n",
       "\n",
       "  Number Scoring 80 or Above  \\\n",
       "0                          s   \n",
       "1                          7   \n",
       "2                          2   \n",
       "\n",
       "  Percent Scoring 80 or Above  \\\n",
       "0                           s   \n",
       "1                        43.8   \n",
       "2                        22.2   \n",
       "\n",
       "  Number Scoring CR  \\\n",
       "0                na   \n",
       "1                na   \n",
       "2                na   \n",
       "\n",
       "  Percent Scoring CR  \n",
       "0                 na  \n",
       "1                 na  \n",
       "2                 na  "
      ]
     },
     "execution_count": 178,
     "metadata": {},
     "output_type": "execute_result"
    }
   ],
   "source": [
    "df.head(3)"
   ]
  },
  {
   "cell_type": "code",
   "execution_count": 179,
   "id": "274ece0b",
   "metadata": {},
   "outputs": [
    {
     "data": {
      "text/html": [
       "<div>\n",
       "<style scoped>\n",
       "    .dataframe tbody tr th:only-of-type {\n",
       "        vertical-align: middle;\n",
       "    }\n",
       "\n",
       "    .dataframe tbody tr th {\n",
       "        vertical-align: top;\n",
       "    }\n",
       "\n",
       "    .dataframe thead th {\n",
       "        text-align: right;\n",
       "    }\n",
       "</style>\n",
       "<table border=\"1\" class=\"dataframe\">\n",
       "  <thead>\n",
       "    <tr style=\"text-align: right;\">\n",
       "      <th></th>\n",
       "      <th>School DBN</th>\n",
       "      <th>School Name</th>\n",
       "      <th>School Level</th>\n",
       "      <th>Regents Exam</th>\n",
       "      <th>Year</th>\n",
       "      <th>Total Tested</th>\n",
       "      <th>Mean Score</th>\n",
       "      <th>Number Scoring Below 65</th>\n",
       "      <th>Percent Scoring Below 65</th>\n",
       "      <th>Number Scoring 65 or Above</th>\n",
       "      <th>Percent Scoring 65 or Above</th>\n",
       "      <th>Number Scoring 80 or Above</th>\n",
       "      <th>Percent Scoring 80 or Above</th>\n",
       "      <th>Number Scoring CR</th>\n",
       "      <th>Percent Scoring CR</th>\n",
       "    </tr>\n",
       "  </thead>\n",
       "  <tbody>\n",
       "    <tr>\n",
       "      <th>212329</th>\n",
       "      <td>84X717</td>\n",
       "      <td>Icahn Charter School</td>\n",
       "      <td>K-8</td>\n",
       "      <td>Living Environment</td>\n",
       "      <td>2017</td>\n",
       "      <td>4</td>\n",
       "      <td>s</td>\n",
       "      <td>s</td>\n",
       "      <td>s</td>\n",
       "      <td>s</td>\n",
       "      <td>s</td>\n",
       "      <td>s</td>\n",
       "      <td>s</td>\n",
       "      <td>na</td>\n",
       "      <td>na</td>\n",
       "    </tr>\n",
       "    <tr>\n",
       "      <th>212330</th>\n",
       "      <td>84X717</td>\n",
       "      <td>Icahn Charter School</td>\n",
       "      <td>K-8</td>\n",
       "      <td>U.S. History and Government</td>\n",
       "      <td>2015</td>\n",
       "      <td>1</td>\n",
       "      <td>s</td>\n",
       "      <td>s</td>\n",
       "      <td>s</td>\n",
       "      <td>s</td>\n",
       "      <td>s</td>\n",
       "      <td>s</td>\n",
       "      <td>s</td>\n",
       "      <td>na</td>\n",
       "      <td>na</td>\n",
       "    </tr>\n",
       "  </tbody>\n",
       "</table>\n",
       "</div>"
      ],
      "text/plain": [
       "       School DBN  \\\n",
       "212329     84X717   \n",
       "212330     84X717   \n",
       "\n",
       "                 School Name  \\\n",
       "212329  Icahn Charter School   \n",
       "212330  Icahn Charter School   \n",
       "\n",
       "       School Level  \\\n",
       "212329          K-8   \n",
       "212330          K-8   \n",
       "\n",
       "                       Regents Exam  \\\n",
       "212329           Living Environment   \n",
       "212330  U.S. History and Government   \n",
       "\n",
       "        Year  \\\n",
       "212329  2017   \n",
       "212330  2015   \n",
       "\n",
       "        Total Tested  \\\n",
       "212329             4   \n",
       "212330             1   \n",
       "\n",
       "       Mean Score  \\\n",
       "212329          s   \n",
       "212330          s   \n",
       "\n",
       "       Number Scoring Below 65  \\\n",
       "212329                       s   \n",
       "212330                       s   \n",
       "\n",
       "       Percent Scoring Below 65  \\\n",
       "212329                        s   \n",
       "212330                        s   \n",
       "\n",
       "       Number Scoring 65 or Above  \\\n",
       "212329                          s   \n",
       "212330                          s   \n",
       "\n",
       "       Percent Scoring 65 or Above  \\\n",
       "212329                           s   \n",
       "212330                           s   \n",
       "\n",
       "       Number Scoring 80 or Above  \\\n",
       "212329                          s   \n",
       "212330                          s   \n",
       "\n",
       "       Percent Scoring 80 or Above  \\\n",
       "212329                           s   \n",
       "212330                           s   \n",
       "\n",
       "       Number Scoring CR  \\\n",
       "212329                na   \n",
       "212330                na   \n",
       "\n",
       "       Percent Scoring CR  \n",
       "212329                 na  \n",
       "212330                 na  "
      ]
     },
     "execution_count": 179,
     "metadata": {},
     "output_type": "execute_result"
    }
   ],
   "source": [
    "df.tail(2)"
   ]
  },
  {
   "cell_type": "code",
   "execution_count": 180,
   "id": "1e5bd1dd",
   "metadata": {},
   "outputs": [
    {
     "data": {
      "text/html": [
       "<div>\n",
       "<style scoped>\n",
       "    .dataframe tbody tr th:only-of-type {\n",
       "        vertical-align: middle;\n",
       "    }\n",
       "\n",
       "    .dataframe tbody tr th {\n",
       "        vertical-align: top;\n",
       "    }\n",
       "\n",
       "    .dataframe thead th {\n",
       "        text-align: right;\n",
       "    }\n",
       "</style>\n",
       "<table border=\"1\" class=\"dataframe\">\n",
       "  <thead>\n",
       "    <tr style=\"text-align: right;\">\n",
       "      <th></th>\n",
       "      <th>School DBN</th>\n",
       "      <th>School Name</th>\n",
       "      <th>School Level</th>\n",
       "      <th>Regents Exam</th>\n",
       "      <th>Year</th>\n",
       "      <th>Total Tested</th>\n",
       "      <th>Mean Score</th>\n",
       "      <th>Number Scoring Below 65</th>\n",
       "      <th>Percent Scoring Below 65</th>\n",
       "      <th>Number Scoring 65 or Above</th>\n",
       "      <th>Percent Scoring 65 or Above</th>\n",
       "      <th>Number Scoring 80 or Above</th>\n",
       "      <th>Percent Scoring 80 or Above</th>\n",
       "      <th>Number Scoring CR</th>\n",
       "      <th>Percent Scoring CR</th>\n",
       "    </tr>\n",
       "  </thead>\n",
       "  <tbody>\n",
       "    <tr>\n",
       "      <th>204963</th>\n",
       "      <td>31R455</td>\n",
       "      <td>Tottenville High School</td>\n",
       "      <td>High school</td>\n",
       "      <td>Integrated Algebra</td>\n",
       "      <td>2016</td>\n",
       "      <td>3</td>\n",
       "      <td>s</td>\n",
       "      <td>s</td>\n",
       "      <td>s</td>\n",
       "      <td>s</td>\n",
       "      <td>s</td>\n",
       "      <td>s</td>\n",
       "      <td>s</td>\n",
       "      <td>na</td>\n",
       "      <td>na</td>\n",
       "    </tr>\n",
       "    <tr>\n",
       "      <th>178323</th>\n",
       "      <td>17K382</td>\n",
       "      <td>Academy for College Preparation and Career Exp...</td>\n",
       "      <td>Secondary School</td>\n",
       "      <td>U.S. History and Government</td>\n",
       "      <td>2016</td>\n",
       "      <td>75</td>\n",
       "      <td>63.3</td>\n",
       "      <td>34</td>\n",
       "      <td>45.3</td>\n",
       "      <td>41</td>\n",
       "      <td>54.7</td>\n",
       "      <td>11</td>\n",
       "      <td>14.7</td>\n",
       "      <td>na</td>\n",
       "      <td>na</td>\n",
       "    </tr>\n",
       "  </tbody>\n",
       "</table>\n",
       "</div>"
      ],
      "text/plain": [
       "       School DBN  \\\n",
       "204963     31R455   \n",
       "178323     17K382   \n",
       "\n",
       "                                              School Name  \\\n",
       "204963                            Tottenville High School   \n",
       "178323  Academy for College Preparation and Career Exp...   \n",
       "\n",
       "            School Level  \\\n",
       "204963       High school   \n",
       "178323  Secondary School   \n",
       "\n",
       "                       Regents Exam  \\\n",
       "204963           Integrated Algebra   \n",
       "178323  U.S. History and Government   \n",
       "\n",
       "        Year  \\\n",
       "204963  2016   \n",
       "178323  2016   \n",
       "\n",
       "        Total Tested  \\\n",
       "204963             3   \n",
       "178323            75   \n",
       "\n",
       "       Mean Score  \\\n",
       "204963          s   \n",
       "178323       63.3   \n",
       "\n",
       "       Number Scoring Below 65  \\\n",
       "204963                       s   \n",
       "178323                      34   \n",
       "\n",
       "       Percent Scoring Below 65  \\\n",
       "204963                        s   \n",
       "178323                     45.3   \n",
       "\n",
       "       Number Scoring 65 or Above  \\\n",
       "204963                          s   \n",
       "178323                         41   \n",
       "\n",
       "       Percent Scoring 65 or Above  \\\n",
       "204963                           s   \n",
       "178323                        54.7   \n",
       "\n",
       "       Number Scoring 80 or Above  \\\n",
       "204963                          s   \n",
       "178323                         11   \n",
       "\n",
       "       Percent Scoring 80 or Above  \\\n",
       "204963                           s   \n",
       "178323                        14.7   \n",
       "\n",
       "       Number Scoring CR  \\\n",
       "204963                na   \n",
       "178323                na   \n",
       "\n",
       "       Percent Scoring CR  \n",
       "204963                 na  \n",
       "178323                 na  "
      ]
     },
     "execution_count": 180,
     "metadata": {},
     "output_type": "execute_result"
    }
   ],
   "source": [
    "#Explore random sample of 5 of original dataset\n",
    "df.sample(2)"
   ]
  },
  {
   "cell_type": "code",
   "execution_count": 181,
   "id": "1f010025",
   "metadata": {},
   "outputs": [
    {
     "data": {
      "text/plain": [
       "Index(['School DBN',\n",
       "       'School Name',\n",
       "       'School Level',\n",
       "       'Regents Exam',\n",
       "       'Year',\n",
       "       'Total Tested',\n",
       "       'Mean Score',\n",
       "       'Number Scoring Below 65',\n",
       "       'Percent Scoring Below 65',\n",
       "       'Number Scoring 65 or Above',\n",
       "       'Percent Scoring 65 or Above',\n",
       "       'Number Scoring 80 or Above',\n",
       "       'Percent Scoring 80 or Above',\n",
       "       'Number Scoring CR',\n",
       "       'Percent Scoring CR'],\n",
       "      dtype='object')"
      ]
     },
     "execution_count": 181,
     "metadata": {},
     "output_type": "execute_result"
    }
   ],
   "source": [
    "#Explore column information\n",
    "df.columns"
   ]
  },
  {
   "cell_type": "code",
   "execution_count": 182,
   "id": "a6b8ecdd",
   "metadata": {},
   "outputs": [
    {
     "data": {
      "text/plain": [
       "Regents Exam                   \n",
       "Common Core Algebra                29254\n",
       "Living Environment                 25539\n",
       "U.S. History and Government        20426\n",
       "Common Core English                19878\n",
       "Global History and Geography       19192\n",
       "Physical Settings/Earth Science    15971\n",
       "Common Core Geometry               15267\n",
       "Physical Settings/Chemistry        11670\n",
       "English                            11091\n",
       "Integrated Algebra                 11022\n",
       "Algebra2/Trigonometry              10788\n",
       "Geometry                            8509\n",
       "Common Core Algebra2                7915\n",
       "Physical Settings/Physics           5799\n",
       "dtype: int64"
      ]
     },
     "execution_count": 182,
     "metadata": {},
     "output_type": "execute_result"
    }
   ],
   "source": [
    "#Explore list of subjects/ Regents exam\n",
    "df[['Regents Exam']].value_counts()"
   ]
  },
  {
   "cell_type": "code",
   "execution_count": 183,
   "id": "48b99950",
   "metadata": {},
   "outputs": [
    {
     "data": {
      "text/plain": [
       "High school                        151160\n",
       "Secondary School                    30252\n",
       "Junior High-Intermediate-Middle     15742\n",
       "K-12 all grades                      8294\n",
       "K-8                                  6858\n",
       "Elementary                             25\n",
       "Name: School Level, dtype: int64"
      ]
     },
     "execution_count": 183,
     "metadata": {},
     "output_type": "execute_result"
    }
   ],
   "source": [
    "#Explore List/Count of all school levels in dataset\n",
    "df[\"School Level\"].value_counts()"
   ]
  },
  {
   "cell_type": "code",
   "execution_count": 184,
   "id": "50f6b5d8",
   "metadata": {},
   "outputs": [
    {
     "data": {
      "text/plain": [
       "1012"
      ]
     },
     "execution_count": 184,
     "metadata": {},
     "output_type": "execute_result"
    }
   ],
   "source": [
    "df[\"School Name\"].nunique()"
   ]
  },
  {
   "cell_type": "code",
   "execution_count": 185,
   "id": "f5f13a16",
   "metadata": {},
   "outputs": [
    {
     "name": "stdout",
     "output_type": "stream",
     "text": [
      "<class 'pandas.core.frame.DataFrame'>\n",
      "RangeIndex: 212331 entries, 0 to 212330\n",
      "Data columns (total 15 columns):\n",
      " #   Column                       Non-Null Count   Dtype \n",
      "---  ------                       --------------   ----- \n",
      " 0   School DBN                   212331 non-null  object\n",
      " 1   School Name                  212331 non-null  object\n",
      " 2   School Level                 212331 non-null  object\n",
      " 3   Regents Exam                 212321 non-null  object\n",
      " 4   Year                         212331 non-null  int64 \n",
      " 5   Total Tested                 212331 non-null  int64 \n",
      " 6   Mean Score                   212331 non-null  object\n",
      " 7   Number Scoring Below 65      212331 non-null  object\n",
      " 8   Percent Scoring Below 65     212331 non-null  object\n",
      " 9   Number Scoring 65 or Above   212331 non-null  object\n",
      " 10  Percent Scoring 65 or Above  212331 non-null  object\n",
      " 11  Number Scoring 80 or Above   212331 non-null  object\n",
      " 12  Percent Scoring 80 or Above  212331 non-null  object\n",
      " 13  Number Scoring CR            212331 non-null  object\n",
      " 14  Percent Scoring CR           212331 non-null  object\n",
      "dtypes: int64(2), object(13)\n",
      "memory usage: 24.3+ MB\n"
     ]
    }
   ],
   "source": [
    "df.info()"
   ]
  },
  {
   "cell_type": "code",
   "execution_count": 186,
   "id": "79ee5aa1",
   "metadata": {},
   "outputs": [],
   "source": [
    "#4. Cleaning of DATA\n",
    "#Remove all record/ row of data that has mean score of 's'\n",
    "df = df.loc[df[\"Mean Score\"]!='s']"
   ]
  },
  {
   "cell_type": "code",
   "execution_count": 187,
   "id": "55b60ddd",
   "metadata": {},
   "outputs": [
    {
     "data": {
      "text/plain": [
       "(137109, 15)"
      ]
     },
     "execution_count": 187,
     "metadata": {},
     "output_type": "execute_result"
    }
   ],
   "source": [
    "#shows that 75,000 rows of data removed (additional col - Borough)\n",
    "df.shape"
   ]
  },
  {
   "cell_type": "code",
   "execution_count": 188,
   "id": "c1bfc2f5",
   "metadata": {},
   "outputs": [],
   "source": [
    "#5. Transformation - datatype conversion and string formatting, subsetting of dataset\n",
    "# Converting columns Mean Score and Number Scoring 80 or Above to numeric data type \n",
    "df[[\"Mean Score\", \"Number Scoring 80 or Above\"]]=df[[\"Mean Score\",\"Number Scoring 80 or Above\"]].apply(pd.to_numeric)"
   ]
  },
  {
   "cell_type": "code",
   "execution_count": 189,
   "id": "77c490c8",
   "metadata": {},
   "outputs": [
    {
     "data": {
      "text/plain": [
       "School DBN                      object\n",
       "School Name                     object\n",
       "School Level                    object\n",
       "Regents Exam                    object\n",
       "Year                             int64\n",
       "Total Tested                     int64\n",
       "Mean Score                     float64\n",
       "Number Scoring Below 65         object\n",
       "Percent Scoring Below 65        object\n",
       "Number Scoring 65 or Above      object\n",
       "Percent Scoring 65 or Above     object\n",
       "Number Scoring 80 or Above       int64\n",
       "Percent Scoring 80 or Above     object\n",
       "Number Scoring CR               object\n",
       "Percent Scoring CR              object\n",
       "dtype: object"
      ]
     },
     "execution_count": 189,
     "metadata": {},
     "output_type": "execute_result"
    }
   ],
   "source": [
    "#Show that col=Mean score and col=Number scoring above 80 datatype now converted to numeric\n",
    "df.dtypes"
   ]
  },
  {
   "cell_type": "code",
   "execution_count": 190,
   "id": "cd65bbda",
   "metadata": {},
   "outputs": [],
   "source": [
    "#copy School DBN column creating new column for Boroughs\n",
    "#Remove the numbers before and after the Borough Letter - K,M,Q,R,X\n",
    "df[\"Boroughs\"]=df[\"School DBN\"]\n",
    "df[\"Boroughs\"] = df.Boroughs.str.replace('\\d+', '',regex=True )"
   ]
  },
  {
   "cell_type": "code",
   "execution_count": 191,
   "id": "6915407b",
   "metadata": {},
   "outputs": [
    {
     "data": {
      "text/html": [
       "<div>\n",
       "<style scoped>\n",
       "    .dataframe tbody tr th:only-of-type {\n",
       "        vertical-align: middle;\n",
       "    }\n",
       "\n",
       "    .dataframe tbody tr th {\n",
       "        vertical-align: top;\n",
       "    }\n",
       "\n",
       "    .dataframe thead th {\n",
       "        text-align: right;\n",
       "    }\n",
       "</style>\n",
       "<table border=\"1\" class=\"dataframe\">\n",
       "  <thead>\n",
       "    <tr style=\"text-align: right;\">\n",
       "      <th></th>\n",
       "      <th>School DBN</th>\n",
       "      <th>Boroughs</th>\n",
       "      <th>School Name</th>\n",
       "      <th>School Level</th>\n",
       "      <th>Regents Exam</th>\n",
       "      <th>Year</th>\n",
       "      <th>Total Tested</th>\n",
       "      <th>Mean Score</th>\n",
       "      <th>Number Scoring 80 or Above</th>\n",
       "    </tr>\n",
       "  </thead>\n",
       "  <tbody>\n",
       "    <tr>\n",
       "      <th>152246</th>\n",
       "      <td>04M495</td>\n",
       "      <td>M</td>\n",
       "      <td>Park East High School</td>\n",
       "      <td>High school</td>\n",
       "      <td>Physical Settings/Earth Science</td>\n",
       "      <td>2017</td>\n",
       "      <td>28</td>\n",
       "      <td>64.7</td>\n",
       "      <td>4</td>\n",
       "    </tr>\n",
       "    <tr>\n",
       "      <th>116285</th>\n",
       "      <td>10X565</td>\n",
       "      <td>X</td>\n",
       "      <td>High School for Energy and Technology</td>\n",
       "      <td>High school</td>\n",
       "      <td>Integrated Algebra</td>\n",
       "      <td>2015</td>\n",
       "      <td>36</td>\n",
       "      <td>58.8</td>\n",
       "      <td>0</td>\n",
       "    </tr>\n",
       "  </tbody>\n",
       "</table>\n",
       "</div>"
      ],
      "text/plain": [
       "       School DBN  \\\n",
       "152246     04M495   \n",
       "116285     10X565   \n",
       "\n",
       "       Boroughs  \\\n",
       "152246        M   \n",
       "116285        X   \n",
       "\n",
       "                                  School Name  \\\n",
       "152246                  Park East High School   \n",
       "116285  High School for Energy and Technology   \n",
       "\n",
       "       School Level  \\\n",
       "152246  High school   \n",
       "116285  High school   \n",
       "\n",
       "                           Regents Exam  \\\n",
       "152246  Physical Settings/Earth Science   \n",
       "116285               Integrated Algebra   \n",
       "\n",
       "        Year  \\\n",
       "152246  2017   \n",
       "116285  2015   \n",
       "\n",
       "        Total Tested  \\\n",
       "152246            28   \n",
       "116285            36   \n",
       "\n",
       "        Mean Score  \\\n",
       "152246        64.7   \n",
       "116285        58.8   \n",
       "\n",
       "        Number Scoring 80 or Above  \n",
       "152246                           4  \n",
       "116285                           0  "
      ]
     },
     "execution_count": 191,
     "metadata": {},
     "output_type": "execute_result"
    }
   ],
   "source": [
    "#Create subset of dataset of relevant columns\n",
    "SchoolCol = df[[\"School DBN\",\"Boroughs\",\"School Name\", \"School Level\",\"Regents Exam\", \"Year\", \"Total Tested\", \"Mean Score\", \"Number Scoring 80 or Above\"]]\n",
    "SchoolCol.sample(2)"
   ]
  },
  {
   "cell_type": "code",
   "execution_count": 192,
   "id": "f60f4dea",
   "metadata": {},
   "outputs": [
    {
     "data": {
      "text/html": [
       "<div>\n",
       "<style scoped>\n",
       "    .dataframe tbody tr th:only-of-type {\n",
       "        vertical-align: middle;\n",
       "    }\n",
       "\n",
       "    .dataframe tbody tr th {\n",
       "        vertical-align: top;\n",
       "    }\n",
       "\n",
       "    .dataframe thead th {\n",
       "        text-align: right;\n",
       "    }\n",
       "</style>\n",
       "<table border=\"1\" class=\"dataframe\">\n",
       "  <thead>\n",
       "    <tr style=\"text-align: right;\">\n",
       "      <th></th>\n",
       "      <th>School DBN</th>\n",
       "      <th>Boroughs</th>\n",
       "      <th>School Level</th>\n",
       "      <th>Regents Exam</th>\n",
       "      <th>Year</th>\n",
       "      <th>Total Tested</th>\n",
       "      <th>Number Scoring 80 or Above</th>\n",
       "    </tr>\n",
       "  </thead>\n",
       "  <tbody>\n",
       "    <tr>\n",
       "      <th>74874</th>\n",
       "      <td>12X321</td>\n",
       "      <td>X</td>\n",
       "      <td>High school</td>\n",
       "      <td>Common Core English</td>\n",
       "      <td>2017</td>\n",
       "      <td>31</td>\n",
       "      <td>8</td>\n",
       "    </tr>\n",
       "    <tr>\n",
       "      <th>33684</th>\n",
       "      <td>12X248</td>\n",
       "      <td>X</td>\n",
       "      <td>High school</td>\n",
       "      <td>Common Core English</td>\n",
       "      <td>2015</td>\n",
       "      <td>53</td>\n",
       "      <td>18</td>\n",
       "    </tr>\n",
       "  </tbody>\n",
       "</table>\n",
       "</div>"
      ],
      "text/plain": [
       "      School DBN  \\\n",
       "74874     12X321   \n",
       "33684     12X248   \n",
       "\n",
       "      Boroughs  \\\n",
       "74874        X   \n",
       "33684        X   \n",
       "\n",
       "      School Level  \\\n",
       "74874  High school   \n",
       "33684  High school   \n",
       "\n",
       "              Regents Exam  \\\n",
       "74874  Common Core English   \n",
       "33684  Common Core English   \n",
       "\n",
       "       Year  \\\n",
       "74874  2017   \n",
       "33684  2015   \n",
       "\n",
       "       Total Tested  \\\n",
       "74874            31   \n",
       "33684            53   \n",
       "\n",
       "       Number Scoring 80 or Above  \n",
       "74874                           8  \n",
       "33684                          18  "
      ]
     },
     "execution_count": 192,
     "metadata": {},
     "output_type": "execute_result"
    }
   ],
   "source": [
    "#Create subset of dataset of relevant columns\n",
    "Final_df = df[[\"School DBN\",\"Boroughs\", \"School Level\",\"Regents Exam\", \"Year\", \"Total Tested\", \"Number Scoring 80 or Above\"]]\n",
    "Final_df.sample(2)"
   ]
  },
  {
   "cell_type": "code",
   "execution_count": 193,
   "id": "8bd5c80e",
   "metadata": {},
   "outputs": [
    {
     "data": {
      "text/plain": [
       "(137109, 7)"
      ]
     },
     "execution_count": 193,
     "metadata": {},
     "output_type": "execute_result"
    }
   ],
   "source": [
    "#Check new shape (rows/columns) of adjusted dataset\n",
    "Final_df.shape"
   ]
  },
  {
   "cell_type": "code",
   "execution_count": 194,
   "id": "fa432cec",
   "metadata": {},
   "outputs": [
    {
     "data": {
      "text/html": [
       "<div>\n",
       "<style scoped>\n",
       "    .dataframe tbody tr th:only-of-type {\n",
       "        vertical-align: middle;\n",
       "    }\n",
       "\n",
       "    .dataframe tbody tr th {\n",
       "        vertical-align: top;\n",
       "    }\n",
       "\n",
       "    .dataframe thead th {\n",
       "        text-align: right;\n",
       "    }\n",
       "</style>\n",
       "<table border=\"1\" class=\"dataframe\">\n",
       "  <thead>\n",
       "    <tr style=\"text-align: right;\">\n",
       "      <th></th>\n",
       "      <th></th>\n",
       "      <th>Total Tested</th>\n",
       "      <th>Number Scoring 80 or Above</th>\n",
       "    </tr>\n",
       "    <tr>\n",
       "      <th>Boroughs</th>\n",
       "      <th>Year</th>\n",
       "      <th></th>\n",
       "      <th></th>\n",
       "    </tr>\n",
       "  </thead>\n",
       "  <tbody>\n",
       "    <tr>\n",
       "      <th rowspan=\"3\" valign=\"top\">K</th>\n",
       "      <th>2015</th>\n",
       "      <td>564</td>\n",
       "      <td>362</td>\n",
       "    </tr>\n",
       "    <tr>\n",
       "      <th>2016</th>\n",
       "      <td>559</td>\n",
       "      <td>413</td>\n",
       "    </tr>\n",
       "    <tr>\n",
       "      <th>2017</th>\n",
       "      <td>651</td>\n",
       "      <td>455</td>\n",
       "    </tr>\n",
       "    <tr>\n",
       "      <th rowspan=\"3\" valign=\"top\">M</th>\n",
       "      <th>2015</th>\n",
       "      <td>528</td>\n",
       "      <td>198</td>\n",
       "    </tr>\n",
       "    <tr>\n",
       "      <th>2016</th>\n",
       "      <td>534</td>\n",
       "      <td>288</td>\n",
       "    </tr>\n",
       "    <tr>\n",
       "      <th>2017</th>\n",
       "      <td>469</td>\n",
       "      <td>223</td>\n",
       "    </tr>\n",
       "    <tr>\n",
       "      <th rowspan=\"3\" valign=\"top\">Q</th>\n",
       "      <th>2015</th>\n",
       "      <td>1425</td>\n",
       "      <td>1075</td>\n",
       "    </tr>\n",
       "    <tr>\n",
       "      <th>2016</th>\n",
       "      <td>1310</td>\n",
       "      <td>1025</td>\n",
       "    </tr>\n",
       "    <tr>\n",
       "      <th>2017</th>\n",
       "      <td>1708</td>\n",
       "      <td>1062</td>\n",
       "    </tr>\n",
       "    <tr>\n",
       "      <th rowspan=\"3\" valign=\"top\">X</th>\n",
       "      <th>2015</th>\n",
       "      <td>545</td>\n",
       "      <td>232</td>\n",
       "    </tr>\n",
       "    <tr>\n",
       "      <th>2016</th>\n",
       "      <td>457</td>\n",
       "      <td>290</td>\n",
       "    </tr>\n",
       "    <tr>\n",
       "      <th>2017</th>\n",
       "      <td>301</td>\n",
       "      <td>95</td>\n",
       "    </tr>\n",
       "  </tbody>\n",
       "</table>\n",
       "</div>"
      ],
      "text/plain": [
       "               Total Tested  \\\n",
       "Boroughs Year                 \n",
       "K        2015           564   \n",
       "         2016           559   \n",
       "         2017           651   \n",
       "M        2015           528   \n",
       "         2016           534   \n",
       "         2017           469   \n",
       "Q        2015          1425   \n",
       "         2016          1310   \n",
       "         2017          1708   \n",
       "X        2015           545   \n",
       "         2016           457   \n",
       "         2017           301   \n",
       "\n",
       "               Number Scoring 80 or Above  \n",
       "Boroughs Year                              \n",
       "K        2015                         362  \n",
       "         2016                         413  \n",
       "         2017                         455  \n",
       "M        2015                         198  \n",
       "         2016                         288  \n",
       "         2017                         223  \n",
       "Q        2015                        1075  \n",
       "         2016                        1025  \n",
       "         2017                        1062  \n",
       "X        2015                         232  \n",
       "         2016                         290  \n",
       "         2017                          95  "
      ]
     },
     "execution_count": 194,
     "metadata": {},
     "output_type": "execute_result"
    }
   ],
   "source": [
    "#Sample Selection - selecting only Physical Settings/Earth Science and K8 school level\n",
    "ExamEarthSci = Final_df[(Final_df[\"Regents Exam\"]==\"Physical Settings/Earth Science\") & (SchoolCol[\"School Level\"]==\"K-8\")]\n",
    "ExamEarthSci.groupby(['Boroughs', 'Year']).sum()"
   ]
  },
  {
   "cell_type": "code",
   "execution_count": 195,
   "id": "805c8631",
   "metadata": {},
   "outputs": [
    {
     "data": {
      "text/plain": [
       "Text(0, 0.5, 'Frequency')"
      ]
     },
     "execution_count": 195,
     "metadata": {},
     "output_type": "execute_result"
    },
    {
     "data": {
      "image/png": "[encoded data removed]",
      "text/plain": [
       "<Figure size 432x288 with 1 Axes>"
      ]
     },
     "metadata": {
      "needs_background": "light"
     },
     "output_type": "display_data"
    }
   ],
   "source": [
    "#6. Data Visualization\n",
    "#HISTOGRAM - showing Total Tested - Earth Science, School Level-K8 \n",
    "ExamEarthSci.hist(column='Total Tested', bins=5, color='#478800')\n",
    "plt.xlabel('All Boroughs 2015-2017 Regents Exam - Physical Settings/Earth Science-K8')\n",
    "plt.ylabel('Frequency')"
   ]
  },
  {
   "cell_type": "code",
   "execution_count": 196,
   "id": "7d212160",
   "metadata": {},
   "outputs": [
    {
     "data": {
      "text/plain": [
       "Text(0, 0.5, 'Frequency')"
      ]
     },
     "execution_count": 196,
     "metadata": {},
     "output_type": "execute_result"
    },
    {
     "data": {
      "image/png": "[encoded data removed]",
      "text/plain": [
       "<Figure size 432x288 with 1 Axes>"
      ]
     },
     "metadata": {
      "needs_background": "light"
     },
     "output_type": "display_data"
    }
   ],
   "source": [
    "#HISTOGRAM - showing count of K8 students scoring 80 and above on Earth Science\n",
    "ExamEarthSci.hist(column='Number Scoring 80 or Above', bins=5, color='#110055')\n",
    "plt.xlabel('All Boroughs 2015-2017 Regents Exam - Physical Settings/Earth Science-K8')\n",
    "plt.ylabel('Frequency')"
   ]
  },
  {
   "cell_type": "code",
   "execution_count": 197,
   "id": "ef0e0685",
   "metadata": {},
   "outputs": [
    {
     "data": {
      "text/plain": [
       "array([[<AxesSubplot:title={'center':'Total Tested'}>,\n",
       "        <AxesSubplot:title={'center':'Number Scoring 80 or Above'}>]],\n",
       "      dtype=object)"
      ]
     },
     "execution_count": 197,
     "metadata": {},
     "output_type": "execute_result"
    },
    {
     "data": {
      "image/png": "[encoded data removed]",
      "text/plain": [
       "<Figure size 432x288 with 2 Axes>"
      ]
     },
     "metadata": {
      "needs_background": "light"
     },
     "output_type": "display_data"
    }
   ],
   "source": [
    "ExamEarthSci_plot2 = ExamEarthSci[[\"Total Tested\", \"Number Scoring 80 or Above\"]]\n",
    "ExamEarthSci_plot2.hist(bins=5)"
   ]
  },
  {
   "cell_type": "code",
   "execution_count": 198,
   "id": "67589aae",
   "metadata": {},
   "outputs": [
    {
     "data": {
      "text/html": [
       "<div>\n",
       "<style scoped>\n",
       "    .dataframe tbody tr th:only-of-type {\n",
       "        vertical-align: middle;\n",
       "    }\n",
       "\n",
       "    .dataframe tbody tr th {\n",
       "        vertical-align: top;\n",
       "    }\n",
       "\n",
       "    .dataframe thead th {\n",
       "        text-align: right;\n",
       "    }\n",
       "</style>\n",
       "<table border=\"1\" class=\"dataframe\">\n",
       "  <thead>\n",
       "    <tr style=\"text-align: right;\">\n",
       "      <th></th>\n",
       "      <th></th>\n",
       "      <th>School DBN</th>\n",
       "      <th>School Level</th>\n",
       "      <th>Regents Exam</th>\n",
       "      <th>Total Tested</th>\n",
       "      <th>Number Scoring 80 or Above</th>\n",
       "    </tr>\n",
       "    <tr>\n",
       "      <th>Boroughs</th>\n",
       "      <th>Year</th>\n",
       "      <th></th>\n",
       "      <th></th>\n",
       "      <th></th>\n",
       "      <th></th>\n",
       "      <th></th>\n",
       "    </tr>\n",
       "  </thead>\n",
       "  <tbody>\n",
       "    <tr>\n",
       "      <th rowspan=\"3\" valign=\"top\">K</th>\n",
       "      <th>2015</th>\n",
       "      <td>84K702</td>\n",
       "      <td>K-8</td>\n",
       "      <td>Physical Settings/Earth Science</td>\n",
       "      <td>29</td>\n",
       "      <td>22</td>\n",
       "    </tr>\n",
       "    <tr>\n",
       "      <th>2016</th>\n",
       "      <td>84K702</td>\n",
       "      <td>K-8</td>\n",
       "      <td>Physical Settings/Earth Science</td>\n",
       "      <td>30</td>\n",
       "      <td>26</td>\n",
       "    </tr>\n",
       "    <tr>\n",
       "      <th>2017</th>\n",
       "      <td>84K702</td>\n",
       "      <td>K-8</td>\n",
       "      <td>Physical Settings/Earth Science</td>\n",
       "      <td>30</td>\n",
       "      <td>27</td>\n",
       "    </tr>\n",
       "    <tr>\n",
       "      <th rowspan=\"3\" valign=\"top\">M</th>\n",
       "      <th>2015</th>\n",
       "      <td>02M126</td>\n",
       "      <td>K-8</td>\n",
       "      <td>Physical Settings/Earth Science</td>\n",
       "      <td>116</td>\n",
       "      <td>43</td>\n",
       "    </tr>\n",
       "    <tr>\n",
       "      <th>2016</th>\n",
       "      <td>02M126</td>\n",
       "      <td>K-8</td>\n",
       "      <td>Physical Settings/Earth Science</td>\n",
       "      <td>108</td>\n",
       "      <td>58</td>\n",
       "    </tr>\n",
       "    <tr>\n",
       "      <th>2017</th>\n",
       "      <td>02M126</td>\n",
       "      <td>K-8</td>\n",
       "      <td>Physical Settings/Earth Science</td>\n",
       "      <td>103</td>\n",
       "      <td>49</td>\n",
       "    </tr>\n",
       "    <tr>\n",
       "      <th rowspan=\"3\" valign=\"top\">Q</th>\n",
       "      <th>2015</th>\n",
       "      <td>29Q208</td>\n",
       "      <td>K-8</td>\n",
       "      <td>Physical Settings/Earth Science</td>\n",
       "      <td>114</td>\n",
       "      <td>110</td>\n",
       "    </tr>\n",
       "    <tr>\n",
       "      <th>2016</th>\n",
       "      <td>29Q208</td>\n",
       "      <td>K-8</td>\n",
       "      <td>Physical Settings/Earth Science</td>\n",
       "      <td>97</td>\n",
       "      <td>90</td>\n",
       "    </tr>\n",
       "    <tr>\n",
       "      <th>2017</th>\n",
       "      <td>29Q208</td>\n",
       "      <td>K-8</td>\n",
       "      <td>Physical Settings/Earth Science</td>\n",
       "      <td>107</td>\n",
       "      <td>101</td>\n",
       "    </tr>\n",
       "    <tr>\n",
       "      <th rowspan=\"3\" valign=\"top\">X</th>\n",
       "      <th>2015</th>\n",
       "      <td>84X255</td>\n",
       "      <td>K-8</td>\n",
       "      <td>Physical Settings/Earth Science</td>\n",
       "      <td>60</td>\n",
       "      <td>22</td>\n",
       "    </tr>\n",
       "    <tr>\n",
       "      <th>2016</th>\n",
       "      <td>84X255</td>\n",
       "      <td>K-8</td>\n",
       "      <td>Physical Settings/Earth Science</td>\n",
       "      <td>47</td>\n",
       "      <td>28</td>\n",
       "    </tr>\n",
       "    <tr>\n",
       "      <th>2017</th>\n",
       "      <td>84X255</td>\n",
       "      <td>K-8</td>\n",
       "      <td>Physical Settings/Earth Science</td>\n",
       "      <td>51</td>\n",
       "      <td>11</td>\n",
       "    </tr>\n",
       "  </tbody>\n",
       "</table>\n",
       "</div>"
      ],
      "text/plain": [
       "              School DBN  \\\n",
       "Boroughs Year              \n",
       "K        2015     84K702   \n",
       "         2016     84K702   \n",
       "         2017     84K702   \n",
       "M        2015     02M126   \n",
       "         2016     02M126   \n",
       "         2017     02M126   \n",
       "Q        2015     29Q208   \n",
       "         2016     29Q208   \n",
       "         2017     29Q208   \n",
       "X        2015     84X255   \n",
       "         2016     84X255   \n",
       "         2017     84X255   \n",
       "\n",
       "              School Level  \\\n",
       "Boroughs Year                \n",
       "K        2015          K-8   \n",
       "         2016          K-8   \n",
       "         2017          K-8   \n",
       "M        2015          K-8   \n",
       "         2016          K-8   \n",
       "         2017          K-8   \n",
       "Q        2015          K-8   \n",
       "         2016          K-8   \n",
       "         2017          K-8   \n",
       "X        2015          K-8   \n",
       "         2016          K-8   \n",
       "         2017          K-8   \n",
       "\n",
       "                                  Regents Exam  \\\n",
       "Boroughs Year                                    \n",
       "K        2015  Physical Settings/Earth Science   \n",
       "         2016  Physical Settings/Earth Science   \n",
       "         2017  Physical Settings/Earth Science   \n",
       "M        2015  Physical Settings/Earth Science   \n",
       "         2016  Physical Settings/Earth Science   \n",
       "         2017  Physical Settings/Earth Science   \n",
       "Q        2015  Physical Settings/Earth Science   \n",
       "         2016  Physical Settings/Earth Science   \n",
       "         2017  Physical Settings/Earth Science   \n",
       "X        2015  Physical Settings/Earth Science   \n",
       "         2016  Physical Settings/Earth Science   \n",
       "         2017  Physical Settings/Earth Science   \n",
       "\n",
       "               Total Tested  \\\n",
       "Boroughs Year                 \n",
       "K        2015            29   \n",
       "         2016            30   \n",
       "         2017            30   \n",
       "M        2015           116   \n",
       "         2016           108   \n",
       "         2017           103   \n",
       "Q        2015           114   \n",
       "         2016            97   \n",
       "         2017           107   \n",
       "X        2015            60   \n",
       "         2016            47   \n",
       "         2017            51   \n",
       "\n",
       "               Number Scoring 80 or Above  \n",
       "Boroughs Year                              \n",
       "K        2015                          22  \n",
       "         2016                          26  \n",
       "         2017                          27  \n",
       "M        2015                          43  \n",
       "         2016                          58  \n",
       "         2017                          49  \n",
       "Q        2015                         110  \n",
       "         2016                          90  \n",
       "         2017                         101  \n",
       "X        2015                          22  \n",
       "         2016                          28  \n",
       "         2017                          11  "
      ]
     },
     "execution_count": 198,
     "metadata": {},
     "output_type": "execute_result"
    }
   ],
   "source": [
    "ExamEarthSci.groupby(['Boroughs', 'Year']).max()"
   ]
  },
  {
   "cell_type": "code",
   "execution_count": 199,
   "id": "514a0f7e",
   "metadata": {},
   "outputs": [
    {
     "data": {
      "text/html": [
       "<div>\n",
       "<style scoped>\n",
       "    .dataframe tbody tr th:only-of-type {\n",
       "        vertical-align: middle;\n",
       "    }\n",
       "\n",
       "    .dataframe tbody tr th {\n",
       "        vertical-align: top;\n",
       "    }\n",
       "\n",
       "    .dataframe thead th {\n",
       "        text-align: right;\n",
       "    }\n",
       "</style>\n",
       "<table border=\"1\" class=\"dataframe\">\n",
       "  <thead>\n",
       "    <tr style=\"text-align: right;\">\n",
       "      <th></th>\n",
       "      <th>School DBN</th>\n",
       "      <th>School Level</th>\n",
       "      <th>Regents Exam</th>\n",
       "      <th>Year</th>\n",
       "      <th>Total Tested</th>\n",
       "      <th>Number Scoring 80 or Above</th>\n",
       "    </tr>\n",
       "    <tr>\n",
       "      <th>Boroughs</th>\n",
       "      <th></th>\n",
       "      <th></th>\n",
       "      <th></th>\n",
       "      <th></th>\n",
       "      <th></th>\n",
       "      <th></th>\n",
       "    </tr>\n",
       "  </thead>\n",
       "  <tbody>\n",
       "    <tr>\n",
       "      <th>K</th>\n",
       "      <td>84K702</td>\n",
       "      <td>K-8</td>\n",
       "      <td>Physical Settings/Earth Science</td>\n",
       "      <td>2017</td>\n",
       "      <td>30</td>\n",
       "      <td>27</td>\n",
       "    </tr>\n",
       "    <tr>\n",
       "      <th>M</th>\n",
       "      <td>02M126</td>\n",
       "      <td>K-8</td>\n",
       "      <td>Physical Settings/Earth Science</td>\n",
       "      <td>2017</td>\n",
       "      <td>116</td>\n",
       "      <td>58</td>\n",
       "    </tr>\n",
       "    <tr>\n",
       "      <th>Q</th>\n",
       "      <td>29Q208</td>\n",
       "      <td>K-8</td>\n",
       "      <td>Physical Settings/Earth Science</td>\n",
       "      <td>2017</td>\n",
       "      <td>114</td>\n",
       "      <td>110</td>\n",
       "    </tr>\n",
       "    <tr>\n",
       "      <th>X</th>\n",
       "      <td>84X255</td>\n",
       "      <td>K-8</td>\n",
       "      <td>Physical Settings/Earth Science</td>\n",
       "      <td>2017</td>\n",
       "      <td>60</td>\n",
       "      <td>28</td>\n",
       "    </tr>\n",
       "  </tbody>\n",
       "</table>\n",
       "</div>"
      ],
      "text/plain": [
       "         School DBN  \\\n",
       "Boroughs              \n",
       "K            84K702   \n",
       "M            02M126   \n",
       "Q            29Q208   \n",
       "X            84X255   \n",
       "\n",
       "         School Level  \\\n",
       "Boroughs                \n",
       "K                 K-8   \n",
       "M                 K-8   \n",
       "Q                 K-8   \n",
       "X                 K-8   \n",
       "\n",
       "                             Regents Exam  \\\n",
       "Boroughs                                    \n",
       "K         Physical Settings/Earth Science   \n",
       "M         Physical Settings/Earth Science   \n",
       "Q         Physical Settings/Earth Science   \n",
       "X         Physical Settings/Earth Science   \n",
       "\n",
       "          Year  \\\n",
       "Boroughs         \n",
       "K         2017   \n",
       "M         2017   \n",
       "Q         2017   \n",
       "X         2017   \n",
       "\n",
       "          Total Tested  \\\n",
       "Boroughs                 \n",
       "K                   30   \n",
       "M                  116   \n",
       "Q                  114   \n",
       "X                   60   \n",
       "\n",
       "          Number Scoring 80 or Above  \n",
       "Boroughs                              \n",
       "K                                 27  \n",
       "M                                 58  \n",
       "Q                                110  \n",
       "X                                 28  "
      ]
     },
     "execution_count": 199,
     "metadata": {},
     "output_type": "execute_result"
    }
   ],
   "source": [
    "#ExamEarthSci.plot()\n",
    "ExamEarthSci.groupby('Boroughs').max()"
   ]
  },
  {
   "cell_type": "code",
   "execution_count": 200,
   "id": "fefb2a28",
   "metadata": {},
   "outputs": [
    {
     "data": {
      "text/html": [
       "<div>\n",
       "<style scoped>\n",
       "    .dataframe tbody tr th:only-of-type {\n",
       "        vertical-align: middle;\n",
       "    }\n",
       "\n",
       "    .dataframe tbody tr th {\n",
       "        vertical-align: top;\n",
       "    }\n",
       "\n",
       "    .dataframe thead th {\n",
       "        text-align: right;\n",
       "    }\n",
       "</style>\n",
       "<table border=\"1\" class=\"dataframe\">\n",
       "  <thead>\n",
       "    <tr style=\"text-align: right;\">\n",
       "      <th></th>\n",
       "      <th>School DBN</th>\n",
       "      <th>School Level</th>\n",
       "      <th>Regents Exam</th>\n",
       "      <th>Year</th>\n",
       "      <th>Total Tested</th>\n",
       "      <th>Number Scoring 80 or Above</th>\n",
       "    </tr>\n",
       "    <tr>\n",
       "      <th>Boroughs</th>\n",
       "      <th></th>\n",
       "      <th></th>\n",
       "      <th></th>\n",
       "      <th></th>\n",
       "      <th></th>\n",
       "      <th></th>\n",
       "    </tr>\n",
       "  </thead>\n",
       "  <tbody>\n",
       "    <tr>\n",
       "      <th>K</th>\n",
       "      <td>17K138</td>\n",
       "      <td>K-8</td>\n",
       "      <td>Physical Settings/Earth Science</td>\n",
       "      <td>2015</td>\n",
       "      <td>6</td>\n",
       "      <td>0</td>\n",
       "    </tr>\n",
       "    <tr>\n",
       "      <th>M</th>\n",
       "      <td>02M126</td>\n",
       "      <td>K-8</td>\n",
       "      <td>Physical Settings/Earth Science</td>\n",
       "      <td>2015</td>\n",
       "      <td>11</td>\n",
       "      <td>0</td>\n",
       "    </tr>\n",
       "    <tr>\n",
       "      <th>Q</th>\n",
       "      <td>24Q113</td>\n",
       "      <td>K-8</td>\n",
       "      <td>Physical Settings/Earth Science</td>\n",
       "      <td>2015</td>\n",
       "      <td>6</td>\n",
       "      <td>0</td>\n",
       "    </tr>\n",
       "    <tr>\n",
       "      <th>X</th>\n",
       "      <td>10X095</td>\n",
       "      <td>K-8</td>\n",
       "      <td>Physical Settings/Earth Science</td>\n",
       "      <td>2015</td>\n",
       "      <td>6</td>\n",
       "      <td>2</td>\n",
       "    </tr>\n",
       "  </tbody>\n",
       "</table>\n",
       "</div>"
      ],
      "text/plain": [
       "         School DBN  \\\n",
       "Boroughs              \n",
       "K            17K138   \n",
       "M            02M126   \n",
       "Q            24Q113   \n",
       "X            10X095   \n",
       "\n",
       "         School Level  \\\n",
       "Boroughs                \n",
       "K                 K-8   \n",
       "M                 K-8   \n",
       "Q                 K-8   \n",
       "X                 K-8   \n",
       "\n",
       "                             Regents Exam  \\\n",
       "Boroughs                                    \n",
       "K         Physical Settings/Earth Science   \n",
       "M         Physical Settings/Earth Science   \n",
       "Q         Physical Settings/Earth Science   \n",
       "X         Physical Settings/Earth Science   \n",
       "\n",
       "          Year  \\\n",
       "Boroughs         \n",
       "K         2015   \n",
       "M         2015   \n",
       "Q         2015   \n",
       "X         2015   \n",
       "\n",
       "          Total Tested  \\\n",
       "Boroughs                 \n",
       "K                    6   \n",
       "M                   11   \n",
       "Q                    6   \n",
       "X                    6   \n",
       "\n",
       "          Number Scoring 80 or Above  \n",
       "Boroughs                              \n",
       "K                                  0  \n",
       "M                                  0  \n",
       "Q                                  0  \n",
       "X                                  2  "
      ]
     },
     "execution_count": 200,
     "metadata": {},
     "output_type": "execute_result"
    }
   ],
   "source": [
    "#ExamEarthSci.plot()\n",
    "ExamEarthSci.groupby('Boroughs').min()"
   ]
  },
  {
   "cell_type": "code",
   "execution_count": 201,
   "id": "166e5aae",
   "metadata": {},
   "outputs": [
    {
     "data": {
      "text/html": [
       "<div>\n",
       "<style scoped>\n",
       "    .dataframe tbody tr th:only-of-type {\n",
       "        vertical-align: middle;\n",
       "    }\n",
       "\n",
       "    .dataframe tbody tr th {\n",
       "        vertical-align: top;\n",
       "    }\n",
       "\n",
       "    .dataframe thead th {\n",
       "        text-align: right;\n",
       "    }\n",
       "</style>\n",
       "<table border=\"1\" class=\"dataframe\">\n",
       "  <thead>\n",
       "    <tr style=\"text-align: right;\">\n",
       "      <th></th>\n",
       "      <th>Year</th>\n",
       "      <th>Total Tested</th>\n",
       "      <th>Number Scoring 80 or Above</th>\n",
       "    </tr>\n",
       "    <tr>\n",
       "      <th>Boroughs</th>\n",
       "      <th></th>\n",
       "      <th></th>\n",
       "      <th></th>\n",
       "    </tr>\n",
       "  </thead>\n",
       "  <tbody>\n",
       "    <tr>\n",
       "      <th>K</th>\n",
       "      <td>2015.991228</td>\n",
       "      <td>15.561404</td>\n",
       "      <td>10.789474</td>\n",
       "    </tr>\n",
       "    <tr>\n",
       "      <th>M</th>\n",
       "      <td>2016.000000</td>\n",
       "      <td>54.678571</td>\n",
       "      <td>25.321429</td>\n",
       "    </tr>\n",
       "    <tr>\n",
       "      <th>Q</th>\n",
       "      <td>2016.041958</td>\n",
       "      <td>31.069930</td>\n",
       "      <td>22.111888</td>\n",
       "    </tr>\n",
       "    <tr>\n",
       "      <th>X</th>\n",
       "      <td>2015.841270</td>\n",
       "      <td>20.682540</td>\n",
       "      <td>9.793651</td>\n",
       "    </tr>\n",
       "  </tbody>\n",
       "</table>\n",
       "</div>"
      ],
      "text/plain": [
       "                 Year  \\\n",
       "Boroughs                \n",
       "K         2015.991228   \n",
       "M         2016.000000   \n",
       "Q         2016.041958   \n",
       "X         2015.841270   \n",
       "\n",
       "          Total Tested  \\\n",
       "Boroughs                 \n",
       "K            15.561404   \n",
       "M            54.678571   \n",
       "Q            31.069930   \n",
       "X            20.682540   \n",
       "\n",
       "          Number Scoring 80 or Above  \n",
       "Boroughs                              \n",
       "K                          10.789474  \n",
       "M                          25.321429  \n",
       "Q                          22.111888  \n",
       "X                           9.793651  "
      ]
     },
     "execution_count": 201,
     "metadata": {},
     "output_type": "execute_result"
    }
   ],
   "source": [
    "#ExamEarthSci.plot()\n",
    "ExamEarthSci.groupby('Boroughs').mean()"
   ]
  },
  {
   "cell_type": "code",
   "execution_count": 202,
   "id": "5194e532",
   "metadata": {},
   "outputs": [
    {
     "data": {
      "text/html": [
       "<div>\n",
       "<style scoped>\n",
       "    .dataframe tbody tr th:only-of-type {\n",
       "        vertical-align: middle;\n",
       "    }\n",
       "\n",
       "    .dataframe tbody tr th {\n",
       "        vertical-align: top;\n",
       "    }\n",
       "\n",
       "    .dataframe thead th {\n",
       "        text-align: right;\n",
       "    }\n",
       "</style>\n",
       "<table border=\"1\" class=\"dataframe\">\n",
       "  <thead>\n",
       "    <tr style=\"text-align: right;\">\n",
       "      <th></th>\n",
       "      <th>Year</th>\n",
       "      <th>Total Tested</th>\n",
       "      <th>Number Scoring 80 or Above</th>\n",
       "    </tr>\n",
       "    <tr>\n",
       "      <th>Boroughs</th>\n",
       "      <th></th>\n",
       "      <th></th>\n",
       "      <th></th>\n",
       "    </tr>\n",
       "  </thead>\n",
       "  <tbody>\n",
       "    <tr>\n",
       "      <th>K</th>\n",
       "      <td>229823</td>\n",
       "      <td>1774</td>\n",
       "      <td>1230</td>\n",
       "    </tr>\n",
       "    <tr>\n",
       "      <th>M</th>\n",
       "      <td>56448</td>\n",
       "      <td>1531</td>\n",
       "      <td>709</td>\n",
       "    </tr>\n",
       "    <tr>\n",
       "      <th>Q</th>\n",
       "      <td>288294</td>\n",
       "      <td>4443</td>\n",
       "      <td>3162</td>\n",
       "    </tr>\n",
       "    <tr>\n",
       "      <th>X</th>\n",
       "      <td>126998</td>\n",
       "      <td>1303</td>\n",
       "      <td>617</td>\n",
       "    </tr>\n",
       "  </tbody>\n",
       "</table>\n",
       "</div>"
      ],
      "text/plain": [
       "            Year  \\\n",
       "Boroughs           \n",
       "K         229823   \n",
       "M          56448   \n",
       "Q         288294   \n",
       "X         126998   \n",
       "\n",
       "          Total Tested  \\\n",
       "Boroughs                 \n",
       "K                 1774   \n",
       "M                 1531   \n",
       "Q                 4443   \n",
       "X                 1303   \n",
       "\n",
       "          Number Scoring 80 or Above  \n",
       "Boroughs                              \n",
       "K                               1230  \n",
       "M                                709  \n",
       "Q                               3162  \n",
       "X                                617  "
      ]
     },
     "execution_count": 202,
     "metadata": {},
     "output_type": "execute_result"
    }
   ],
   "source": [
    "#ExamEarthSci.plot()\n",
    "ExamEarthSci.groupby('Boroughs').sum()"
   ]
  },
  {
   "cell_type": "code",
   "execution_count": 203,
   "id": "36b62227",
   "metadata": {},
   "outputs": [
    {
     "data": {
      "text/html": [
       "<div>\n",
       "<style scoped>\n",
       "    .dataframe tbody tr th:only-of-type {\n",
       "        vertical-align: middle;\n",
       "    }\n",
       "\n",
       "    .dataframe tbody tr th {\n",
       "        vertical-align: top;\n",
       "    }\n",
       "\n",
       "    .dataframe thead th {\n",
       "        text-align: right;\n",
       "    }\n",
       "</style>\n",
       "<table border=\"1\" class=\"dataframe\">\n",
       "  <thead>\n",
       "    <tr style=\"text-align: right;\">\n",
       "      <th></th>\n",
       "      <th>Total Tested</th>\n",
       "      <th>Number Scoring 80 or Above</th>\n",
       "    </tr>\n",
       "    <tr>\n",
       "      <th>Year</th>\n",
       "      <th></th>\n",
       "      <th></th>\n",
       "    </tr>\n",
       "  </thead>\n",
       "  <tbody>\n",
       "    <tr>\n",
       "      <th>2015</th>\n",
       "      <td>3062</td>\n",
       "      <td>1867</td>\n",
       "    </tr>\n",
       "    <tr>\n",
       "      <th>2016</th>\n",
       "      <td>2860</td>\n",
       "      <td>2016</td>\n",
       "    </tr>\n",
       "    <tr>\n",
       "      <th>2017</th>\n",
       "      <td>3129</td>\n",
       "      <td>1835</td>\n",
       "    </tr>\n",
       "  </tbody>\n",
       "</table>\n",
       "</div>"
      ],
      "text/plain": [
       "      Total Tested  \\\n",
       "Year                 \n",
       "2015          3062   \n",
       "2016          2860   \n",
       "2017          3129   \n",
       "\n",
       "      Number Scoring 80 or Above  \n",
       "Year                              \n",
       "2015                        1867  \n",
       "2016                        2016  \n",
       "2017                        1835  "
      ]
     },
     "execution_count": 203,
     "metadata": {},
     "output_type": "execute_result"
    }
   ],
   "source": [
    "#ExamEarthSci.plot()\n",
    "ExamEarthSci.groupby('Year').sum()"
   ]
  },
  {
   "cell_type": "code",
   "execution_count": 204,
   "id": "68f81fc3",
   "metadata": {},
   "outputs": [
    {
     "data": {
      "text/html": [
       "<div>\n",
       "<style scoped>\n",
       "    .dataframe tbody tr th:only-of-type {\n",
       "        vertical-align: middle;\n",
       "    }\n",
       "\n",
       "    .dataframe tbody tr th {\n",
       "        vertical-align: top;\n",
       "    }\n",
       "\n",
       "    .dataframe thead th {\n",
       "        text-align: right;\n",
       "    }\n",
       "</style>\n",
       "<table border=\"1\" class=\"dataframe\">\n",
       "  <thead>\n",
       "    <tr style=\"text-align: right;\">\n",
       "      <th></th>\n",
       "      <th>Total Tested</th>\n",
       "      <th>Number Scoring 80 or Above</th>\n",
       "    </tr>\n",
       "  </thead>\n",
       "  <tbody>\n",
       "    <tr>\n",
       "      <th>count</th>\n",
       "      <td>348.000000</td>\n",
       "      <td>348.000000</td>\n",
       "    </tr>\n",
       "    <tr>\n",
       "      <th>mean</th>\n",
       "      <td>26.008621</td>\n",
       "      <td>16.431034</td>\n",
       "    </tr>\n",
       "    <tr>\n",
       "      <th>std</th>\n",
       "      <td>21.870656</td>\n",
       "      <td>16.906195</td>\n",
       "    </tr>\n",
       "    <tr>\n",
       "      <th>min</th>\n",
       "      <td>6.000000</td>\n",
       "      <td>0.000000</td>\n",
       "    </tr>\n",
       "    <tr>\n",
       "      <th>25%</th>\n",
       "      <td>11.000000</td>\n",
       "      <td>6.750000</td>\n",
       "    </tr>\n",
       "    <tr>\n",
       "      <th>50%</th>\n",
       "      <td>19.000000</td>\n",
       "      <td>12.000000</td>\n",
       "    </tr>\n",
       "    <tr>\n",
       "      <th>75%</th>\n",
       "      <td>31.000000</td>\n",
       "      <td>21.000000</td>\n",
       "    </tr>\n",
       "    <tr>\n",
       "      <th>max</th>\n",
       "      <td>116.000000</td>\n",
       "      <td>110.000000</td>\n",
       "    </tr>\n",
       "  </tbody>\n",
       "</table>\n",
       "</div>"
      ],
      "text/plain": [
       "       Total Tested  \\\n",
       "count    348.000000   \n",
       "mean      26.008621   \n",
       "std       21.870656   \n",
       "min        6.000000   \n",
       "25%       11.000000   \n",
       "50%       19.000000   \n",
       "75%       31.000000   \n",
       "max      116.000000   \n",
       "\n",
       "       Number Scoring 80 or Above  \n",
       "count                  348.000000  \n",
       "mean                    16.431034  \n",
       "std                     16.906195  \n",
       "min                      0.000000  \n",
       "25%                      6.750000  \n",
       "50%                     12.000000  \n",
       "75%                     21.000000  \n",
       "max                    110.000000  "
      ]
     },
     "execution_count": 204,
     "metadata": {},
     "output_type": "execute_result"
    }
   ],
   "source": [
    "#Show descriptive stats/mean, max, min/ of cols Total_Tested/ Score above 80 - K8 students in Earth Science\n",
    "ExamEarthSci_plot2.describe()"
   ]
  },
  {
   "cell_type": "code",
   "execution_count": 205,
   "id": "e9f6ce63",
   "metadata": {},
   "outputs": [
    {
     "data": {
      "text/plain": [
       "<AxesSubplot:ylabel='Frequency'>"
      ]
     },
     "execution_count": 205,
     "metadata": {},
     "output_type": "execute_result"
    },
    {
     "data": {
      "image/png": "[encoded data removed]",
      "text/plain": [
       "<Figure size 432x288 with 1 Axes>"
      ]
     },
     "metadata": {
      "needs_background": "light"
     },
     "output_type": "display_data"
    }
   ],
   "source": [
    "ExamEarthSci_plot2.plot.hist(stacked=True, bins=8,alpha=.6)"
   ]
  },
  {
   "cell_type": "code",
   "execution_count": 206,
   "id": "a0d7053a",
   "metadata": {},
   "outputs": [
    {
     "data": {
      "text/html": [
       "<div>\n",
       "<style scoped>\n",
       "    .dataframe tbody tr th:only-of-type {\n",
       "        vertical-align: middle;\n",
       "    }\n",
       "\n",
       "    .dataframe tbody tr th {\n",
       "        vertical-align: top;\n",
       "    }\n",
       "\n",
       "    .dataframe thead th {\n",
       "        text-align: right;\n",
       "    }\n",
       "</style>\n",
       "<table border=\"1\" class=\"dataframe\">\n",
       "  <thead>\n",
       "    <tr style=\"text-align: right;\">\n",
       "      <th></th>\n",
       "      <th>Year</th>\n",
       "      <th>Total Tested</th>\n",
       "      <th>Number Scoring 80 or Above</th>\n",
       "    </tr>\n",
       "    <tr>\n",
       "      <th>Boroughs</th>\n",
       "      <th></th>\n",
       "      <th></th>\n",
       "      <th></th>\n",
       "    </tr>\n",
       "  </thead>\n",
       "  <tbody>\n",
       "    <tr>\n",
       "      <th>K</th>\n",
       "      <td>229823</td>\n",
       "      <td>1774</td>\n",
       "      <td>1230</td>\n",
       "    </tr>\n",
       "    <tr>\n",
       "      <th>M</th>\n",
       "      <td>56448</td>\n",
       "      <td>1531</td>\n",
       "      <td>709</td>\n",
       "    </tr>\n",
       "    <tr>\n",
       "      <th>Q</th>\n",
       "      <td>288294</td>\n",
       "      <td>4443</td>\n",
       "      <td>3162</td>\n",
       "    </tr>\n",
       "    <tr>\n",
       "      <th>X</th>\n",
       "      <td>126998</td>\n",
       "      <td>1303</td>\n",
       "      <td>617</td>\n",
       "    </tr>\n",
       "  </tbody>\n",
       "</table>\n",
       "</div>"
      ],
      "text/plain": [
       "            Year  \\\n",
       "Boroughs           \n",
       "K         229823   \n",
       "M          56448   \n",
       "Q         288294   \n",
       "X         126998   \n",
       "\n",
       "          Total Tested  \\\n",
       "Boroughs                 \n",
       "K                 1774   \n",
       "M                 1531   \n",
       "Q                 4443   \n",
       "X                 1303   \n",
       "\n",
       "          Number Scoring 80 or Above  \n",
       "Boroughs                              \n",
       "K                               1230  \n",
       "M                                709  \n",
       "Q                               3162  \n",
       "X                                617  "
      ]
     },
     "execution_count": 206,
     "metadata": {},
     "output_type": "execute_result"
    }
   ],
   "source": [
    "ExamEarthSci.groupby(['Boroughs']).sum()"
   ]
  },
  {
   "cell_type": "code",
   "execution_count": 207,
   "id": "a4c0ab41",
   "metadata": {},
   "outputs": [
    {
     "data": {
      "text/plain": [
       "<seaborn.axisgrid.PairGrid at 0x20e451fa160>"
      ]
     },
     "execution_count": 207,
     "metadata": {},
     "output_type": "execute_result"
    },
    {
     "data": {
      "image/png": "[encoded data removed]",
      "text/plain": [
       "<Figure size 360x360 with 6 Axes>"
      ]
     },
     "metadata": {
      "needs_background": "light"
     },
     "output_type": "display_data"
    }
   ],
   "source": [
    "#ExamEarthSci_plot = df[[\"Boroughs\",\"Total Tested\",\"Number Scoring 80 or Above\"]]\n",
    "sns.pairplot(ExamEarthSci_plot2)"
   ]
  },
  {
   "cell_type": "code",
   "execution_count": 208,
   "id": "eef8504f",
   "metadata": {},
   "outputs": [
    {
     "data": {
      "text/plain": [
       "<seaborn.axisgrid.FacetGrid at 0x20e493ea6d0>"
      ]
     },
     "execution_count": 208,
     "metadata": {},
     "output_type": "execute_result"
    },
    {
     "data": {
      "image/png": "[encoded data removed]",
      "text/plain": [
       "<Figure size 433.7x360 with 1 Axes>"
      ]
     },
     "metadata": {
      "needs_background": "light"
     },
     "output_type": "display_data"
    }
   ],
   "source": [
    "#ExamEarthSci = sns.load_dataset(\"ExamEarthSci\")\n",
    "#ExamEarthSci.head()\n",
    "sns.displot(x ='Total Tested',kde=True,bins = 4 ,\n",
    "hue = df['Year'] , palette = 'vlag', data=ExamEarthSci)"
   ]
  },
  {
   "cell_type": "code",
   "execution_count": 209,
   "id": "c9b382bd",
   "metadata": {},
   "outputs": [
    {
     "data": {
      "text/plain": [
       "<AxesSubplot:xlabel='Total Tested', ylabel='Number Scoring 80 or Above'>"
      ]
     },
     "execution_count": 209,
     "metadata": {},
     "output_type": "execute_result"
    },
    {
     "data": {
      "image/png": "[encoded data removed]",
      "text/plain": [
       "<Figure size 432x288 with 1 Axes>"
      ]
     },
     "metadata": {
      "needs_background": "light"
     },
     "output_type": "display_data"
    }
   ],
   "source": [
    "sns.scatterplot(x='Total Tested', y ='Number Scoring 80 or Above' ,\n",
    "data = ExamEarthSci , hue = 'Boroughs')"
   ]
  },
  {
   "cell_type": "code",
   "execution_count": 210,
   "id": "b4f6e4aa",
   "metadata": {},
   "outputs": [
    {
     "data": {
      "text/plain": [
       "<seaborn.axisgrid.JointGrid at 0x20e509c8d00>"
      ]
     },
     "execution_count": 210,
     "metadata": {},
     "output_type": "execute_result"
    },
    {
     "data": {
      "image/png": "[encoded data removed]",
      "text/plain": [
       "<Figure size 432x432 with 3 Axes>"
      ]
     },
     "metadata": {
      "needs_background": "light"
     },
     "output_type": "display_data"
    }
   ],
   "source": [
    "sns.jointplot(x = 'Total Tested', y = 'Number Scoring 80 or Above',\n",
    "data = ExamEarthSci,hue = 'Boroughs')"
   ]
  },
  {
   "cell_type": "code",
   "execution_count": 211,
   "id": "e980e2e9",
   "metadata": {},
   "outputs": [
    {
     "data": {
      "text/plain": [
       "<AxesSubplot:xlabel='Total Tested', ylabel='Number Scoring 80 or Above'>"
      ]
     },
     "execution_count": 211,
     "metadata": {},
     "output_type": "execute_result"
    },
    {
     "data": {
      "image/png": "[encoded data removed]",
      "text/plain": [
       "<Figure size 432x288 with 1 Axes>"
      ]
     },
     "metadata": {
      "needs_background": "light"
     },
     "output_type": "display_data"
    }
   ],
   "source": [
    "sns.scatterplot(x='Total Tested', y ='Number Scoring 80 or Above' ,\n",
    "data = ExamEarthSci , hue = 'Year')"
   ]
  },
  {
   "cell_type": "code",
   "execution_count": 212,
   "id": "f26625a8",
   "metadata": {},
   "outputs": [
    {
     "data": {
      "text/plain": [
       "<seaborn.axisgrid.JointGrid at 0x20e45421f70>"
      ]
     },
     "execution_count": 212,
     "metadata": {},
     "output_type": "execute_result"
    },
    {
     "data": {
      "image/png": "[encoded data removed]",
      "text/plain": [
       "<Figure size 432x432 with 3 Axes>"
      ]
     },
     "metadata": {
      "needs_background": "light"
     },
     "output_type": "display_data"
    }
   ],
   "source": [
    "sns.jointplot(x = 'Total Tested', y = 'Number Scoring 80 or Above',\n",
    "data = ExamEarthSci,hue = 'Year')"
   ]
  },
  {
   "cell_type": "code",
   "execution_count": 213,
   "id": "ad1a948e",
   "metadata": {},
   "outputs": [
    {
     "data": {
      "text/plain": [
       "<AxesSubplot:xlabel='Year'>"
      ]
     },
     "execution_count": 213,
     "metadata": {},
     "output_type": "execute_result"
    },
    {
     "data": {
      "image/png": "[encoded data removed]",
      "text/plain": [
       "<Figure size 432x288 with 1 Axes>"
      ]
     },
     "metadata": {
      "needs_background": "light"
     },
     "output_type": "display_data"
    }
   ],
   "source": [
    "#Showing schools/ occurrences of 10 and under total students tested 2015-2017\n",
    "ExamEarthSci_Borough = ExamEarthSci[(ExamEarthSci[\"Total Tested\"]<=10)]\n",
    "ExamEarthSci_Borough.groupby('Year').sum().plot(kind='bar')"
   ]
  },
  {
   "cell_type": "code",
   "execution_count": 214,
   "id": "0c3ebc99",
   "metadata": {},
   "outputs": [
    {
     "data": {
      "text/plain": [
       "<AxesSubplot:xlabel='Year'>"
      ]
     },
     "execution_count": 214,
     "metadata": {},
     "output_type": "execute_result"
    },
    {
     "data": {
      "image/png": "[encoded data removed]",
      "text/plain": [
       "<Figure size 432x288 with 1 Axes>"
      ]
     },
     "metadata": {
      "needs_background": "light"
     },
     "output_type": "display_data"
    }
   ],
   "source": [
    "#Showing schools/ occurrences of 100+ total students tested 2015 to 2017\n",
    "ExamEarthSci_Borough = ExamEarthSci[(ExamEarthSci[\"Total Tested\"]>=100)]\n",
    "ExamEarthSci_Borough.groupby('Year').sum().plot(kind='bar')"
   ]
  },
  {
   "cell_type": "code",
   "execution_count": 215,
   "id": "9874a88e",
   "metadata": {},
   "outputs": [
    {
     "data": {
      "image/png": "[encoded data removed]",
      "text/plain": [
       "<Figure size 432x288 with 1 Axes>"
      ]
     },
     "metadata": {
      "needs_background": "light"
     },
     "output_type": "display_data"
    }
   ],
   "source": [
    "#Showing a positive correlation between Total Tested and score above 80\n",
    "sns.scatterplot(data = ExamEarthSci_plot3, x = \"Total Tested\", y = \"Number Scoring 80 or Above\")\n",
    "plt.show()"
   ]
  },
  {
   "cell_type": "code",
   "execution_count": 216,
   "id": "7757b672",
   "metadata": {},
   "outputs": [
    {
     "data": {
      "text/plain": [
       "<AxesSubplot:title={'center':'Mean comparison across Boroughs'}, ylabel='Boroughs'>"
      ]
     },
     "execution_count": 216,
     "metadata": {},
     "output_type": "execute_result"
    },
    {
     "data": {
      "image/png": "[encoded data removed]",
      "text/plain": [
       "<Figure size 432x288 with 1 Axes>"
      ]
     },
     "metadata": {
      "needs_background": "light"
     },
     "output_type": "display_data"
    }
   ],
   "source": [
    "#Showing (mean) comparison of total tested/ Numbers scoring above 80 ACROSS the Boroughs\n",
    "ExamEarthSci_plot3 = ExamEarthSci[[\"Boroughs\",\"Total Tested\", \"Number Scoring 80 or Above\"]]\n",
    "ExamEarthSci_plot3.groupby('Boroughs').mean().plot(kind='barh', title=\"Mean comparison across Boroughs\")"
   ]
  },
  {
   "cell_type": "code",
   "execution_count": 217,
   "id": "6eb60275",
   "metadata": {},
   "outputs": [
    {
     "data": {
      "text/plain": [
       "<AxesSubplot:ylabel='Boroughs'>"
      ]
     },
     "execution_count": 217,
     "metadata": {},
     "output_type": "execute_result"
    },
    {
     "data": {
      "image/png": "[encoded data removed]",
      "text/plain": [
       "<Figure size 432x288 with 1 Axes>"
      ]
     },
     "metadata": {
      "needs_background": "light"
     },
     "output_type": "display_data"
    }
   ],
   "source": [
    "ExamEarthSci_plot3.groupby('Boroughs').sum().plot(kind='barh')"
   ]
  },
  {
   "cell_type": "code",
   "execution_count": 218,
   "id": "24e3fd03",
   "metadata": {},
   "outputs": [
    {
     "data": {
      "text/plain": [
       "Text(0.5, 0, 'Max')"
      ]
     },
     "execution_count": 218,
     "metadata": {},
     "output_type": "execute_result"
    },
    {
     "data": {
      "image/png": "[encoded data removed]",
      "text/plain": [
       "<Figure size 432x288 with 1 Axes>"
      ]
     },
     "metadata": {
      "needs_background": "light"
     },
     "output_type": "display_data"
    }
   ],
   "source": [
    "ExamEarthSci_plot3.groupby('Boroughs').max().plot(kind='barh', title='Chart showing MAX across Boroughs')\n",
    "plt.xlabel(\"Max\")"
   ]
  },
  {
   "cell_type": "code",
   "execution_count": 219,
   "id": "1b5ff79d",
   "metadata": {},
   "outputs": [
    {
     "data": {
      "text/plain": [
       "Text(0, 0.5, 'Sum')"
      ]
     },
     "execution_count": 219,
     "metadata": {},
     "output_type": "execute_result"
    },
    {
     "data": {
      "image/png": "[encoded data removed]",
      "text/plain": [
       "<Figure size 432x288 with 1 Axes>"
      ]
     },
     "metadata": {
      "needs_background": "light"
     },
     "output_type": "display_data"
    }
   ],
   "source": [
    "Queens_Borough = ExamEarthSci[(ExamEarthSci[\"Boroughs\"]==\"Q\")]\n",
    "Queens_Borough.groupby('Year').sum().plot(kind='bar',title='Queens Borough(Sum) 2015-2017')\n",
    "plt.ylabel(\"Sum\")"
   ]
  },
  {
   "cell_type": "code",
   "execution_count": 220,
   "id": "32eacfd9",
   "metadata": {},
   "outputs": [
    {
     "data": {
      "text/plain": [
       "Text(0, 0.5, 'Sum')"
      ]
     },
     "execution_count": 220,
     "metadata": {},
     "output_type": "execute_result"
    },
    {
     "data": {
      "image/png": "[encoded data removed]",
      "text/plain": [
       "<Figure size 432x288 with 1 Axes>"
      ]
     },
     "metadata": {
      "needs_background": "light"
     },
     "output_type": "display_data"
    }
   ],
   "source": [
    "Brooklyn_Borough = ExamEarthSci[(ExamEarthSci[\"Boroughs\"]==\"K\")]\n",
    "Brooklyn_Borough.groupby('Year').sum().plot(kind='bar', title='Brooklyn Borough (Sum) 2015-2017')\n",
    "plt.ylabel(\"Sum\")"
   ]
  }
 ],
 "metadata": {
  "kernelspec": {
   "display_name": "Python 3",
   "language": "python",
   "name": "python3"
  },
  "language_info": {
   "codemirror_mode": {
    "name": "ipython",
    "version": 3
   },
   "file_extension": ".py",
   "mimetype": "text/x-python",
   "name": "python",
   "nbconvert_exporter": "python",
   "pygments_lexer": "ipython3",
   "version": "3.8.8"
  }
 },
 "nbformat": 4,
 "nbformat_minor": 5
}
