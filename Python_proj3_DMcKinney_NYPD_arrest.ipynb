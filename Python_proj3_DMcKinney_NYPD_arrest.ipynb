{
  "nbformat": 4,
  "nbformat_minor": 0,
  "metadata": {
    "colab": {
      "name": "Python_proj3-DMcKinney- NYPD_arrest.ipynb",
      "provenance": [],
      "collapsed_sections": [],
      "authorship_tag": "ABX9TyM3NPwFFBIqK7D3CHc+cZy0",
      "include_colab_link": true
    },
    "kernelspec": {
      "name": "python3",
      "display_name": "Python 3"
    },
    "language_info": {
      "name": "python"
    }
  },
  "cells": [
    {
      "cell_type": "markdown",
      "metadata": {
        "id": "view-in-github",
        "colab_type": "text"
      },
      "source": [
        "<a href=\"https://colab.research.google.com/github/deetee67/deetee67/blob/main/Python_proj3_DMcKinney_NYPD_arrest.ipynb\" target=\"_parent\"><img src=\"https://colab.research.google.com/assets/colab-badge.svg\" alt=\"Open In Colab\"/></a>"
      ]
    },
    {
      "cell_type": "markdown",
      "source": [
        "**NYPD Dataset - Python Project 3 DMcKinney**:\n",
        "\n",
        "# Research Question\n",
        "\n",
        "**Identify significant trends/ patterns of arrests and the demographic groups impacted. This was done in terms of following:**\n",
        "- Communities/ Locations - Boroughs and Arresting Precincts\n",
        "- Demographics - Gender, Age group \n",
        "- Type of arrests - KY code (e.g. murder, assault)\n",
        "- Jurisdictions -'how' - Patrol, In Transit, Residence etc. \n",
        "\n",
        " - *I wanted to identify any existing patterns particularly with respect to young persons less than 18 years being arrested as this could help in creating interventions in those communities to reduce/ prevent repeat offenses which would ultimately reduce or slow the growth of arrest in the 'older' mean age group.*\n"
      ],
      "metadata": {
        "id": "to0x_kD_IflC"
      }
    },
    {
      "cell_type": "markdown",
      "source": [
        "# **Step 1. **\n",
        "- Importing libraries\n",
        "\n",
        "- Load dataset -  reading csv file\n",
        "Assigning dataframe"
      ],
      "metadata": {
        "id": "xyWx8XHRMx0p"
      }
    },
    {
      "cell_type": "code",
      "execution_count": null,
      "metadata": {
        "id": "PGl2RpjjwcUW"
      },
      "outputs": [],
      "source": [
        "import pandas as pd\n",
        "import re\n",
        "import numpy as np\n",
        "from statistics import mode\n",
        "from matplotlib import colors\n",
        "from matplotlib.ticker import PercentFormatter\n",
        "import seaborn as sns\n",
        "import matplotlib.pyplot as plot\n",
        "plot.style.use('classic')\n",
        "%matplotlib inline\n",
        "pd.set_option('display.max_rows', None)\n",
        "pd.set_option('display.max_columns', None)\n",
        "pd.set_option('display.width', -1)"
      ]
    },
    {
      "cell_type": "code",
      "source": [
        "df = pd.read_csv ('/content/sample_data/NYPD_Arrest_Data__Year_to_Date_.csv')"
      ],
      "metadata": {
        "id": "ErzUoww2xXEg"
      },
      "execution_count": null,
      "outputs": []
    },
    {
      "cell_type": "markdown",
      "source": [
        "# **Step 2. **\n",
        "Examining/ Exploring the dataset\n",
        "- Dataset contais NYPD Historic Arrest data\n",
        " - Checking Shape of dataset - 115,299 rows and 19 columns\n",
        "  - Checking data types\n",
        " - Checking for missing values - some seen in LAW_CD column and a few other columns"
      ],
      "metadata": {
        "id": "O8ht2TNQNDVc"
      }
    },
    {
      "cell_type": "code",
      "source": [
        "df.shape"
      ],
      "metadata": {
        "id": "PzIdKNEf8Eo-",
        "colab": {
          "base_uri": "https://localhost:8080/"
        },
        "outputId": "26c6e322-2448-4da7-d853-0abd580f9aed"
      },
      "execution_count": null,
      "outputs": [
        {
          "output_type": "execute_result",
          "data": {
            "text/plain": [
              "(115299, 19)"
            ]
          },
          "metadata": {},
          "execution_count": 985
        }
      ]
    },
    {
      "cell_type": "code",
      "source": [
        "df.head(2)"
      ],
      "metadata": {
        "id": "0dNQ1uBTnFav",
        "colab": {
          "base_uri": "https://localhost:8080/",
          "height": 263
        },
        "outputId": "cdddf3d5-3f34-4e0f-805a-4f6e338e5acc"
      },
      "execution_count": null,
      "outputs": [
        {
          "output_type": "execute_result",
          "data": {
            "text/html": [
              "\n",
              "  <div id=\"df-a7d0f2a9-923f-4cc1-8c2b-249af6a3998b\">\n",
              "    <div class=\"colab-df-container\">\n",
              "      <div>\n",
              "<style scoped>\n",
              "    .dataframe tbody tr th:only-of-type {\n",
              "        vertical-align: middle;\n",
              "    }\n",
              "\n",
              "    .dataframe tbody tr th {\n",
              "        vertical-align: top;\n",
              "    }\n",
              "\n",
              "    .dataframe thead th {\n",
              "        text-align: right;\n",
              "    }\n",
              "</style>\n",
              "<table border=\"1\" class=\"dataframe\">\n",
              "  <thead>\n",
              "    <tr style=\"text-align: right;\">\n",
              "      <th></th>\n",
              "      <th>ARREST_KEY</th>\n",
              "      <th>ARREST_DATE</th>\n",
              "      <th>PD_CD</th>\n",
              "      <th>PD_DESC</th>\n",
              "      <th>KY_CD</th>\n",
              "      <th>OFNS_DESC</th>\n",
              "      <th>LAW_CODE</th>\n",
              "      <th>LAW_CAT_CD</th>\n",
              "      <th>ARREST_BORO</th>\n",
              "      <th>ARREST_PRECINCT</th>\n",
              "      <th>JURISDICTION_CODE</th>\n",
              "      <th>AGE_GROUP</th>\n",
              "      <th>PERP_SEX</th>\n",
              "      <th>PERP_RACE</th>\n",
              "      <th>X_COORD_CD</th>\n",
              "      <th>Y_COORD_CD</th>\n",
              "      <th>Latitude</th>\n",
              "      <th>Longitude</th>\n",
              "      <th>New Georeferenced Column</th>\n",
              "    </tr>\n",
              "  </thead>\n",
              "  <tbody>\n",
              "    <tr>\n",
              "      <th>0</th>\n",
              "      <td>234233843</td>\n",
              "      <td>9/29/2021</td>\n",
              "      <td>105.0</td>\n",
              "      <td>STRANGULATION 1ST</td>\n",
              "      <td>106.0</td>\n",
              "      <td>FELONY ASSAULT</td>\n",
              "      <td>PL 1211200</td>\n",
              "      <td>F</td>\n",
              "      <td>B</td>\n",
              "      <td>42</td>\n",
              "      <td>0</td>\n",
              "      <td>25-44</td>\n",
              "      <td>M</td>\n",
              "      <td>BLACK</td>\n",
              "      <td>1009231</td>\n",
              "      <td>240290</td>\n",
              "      <td>40.826189</td>\n",
              "      <td>-73.909738</td>\n",
              "      <td>POINT (-73.90973778899996 40.82618898100003)</td>\n",
              "    </tr>\n",
              "    <tr>\n",
              "      <th>1</th>\n",
              "      <td>234129823</td>\n",
              "      <td>9/27/2021</td>\n",
              "      <td>157.0</td>\n",
              "      <td>RAPE 1</td>\n",
              "      <td>104.0</td>\n",
              "      <td>RAPE</td>\n",
              "      <td>PL 1303501</td>\n",
              "      <td>F</td>\n",
              "      <td>K</td>\n",
              "      <td>77</td>\n",
              "      <td>0</td>\n",
              "      <td>25-44</td>\n",
              "      <td>M</td>\n",
              "      <td>BLACK</td>\n",
              "      <td>1003606</td>\n",
              "      <td>185050</td>\n",
              "      <td>40.674583</td>\n",
              "      <td>-73.930222</td>\n",
              "      <td>POINT (-73.93022154099998 40.67458330800008)</td>\n",
              "    </tr>\n",
              "  </tbody>\n",
              "</table>\n",
              "</div>\n",
              "      <button class=\"colab-df-convert\" onclick=\"convertToInteractive('df-a7d0f2a9-923f-4cc1-8c2b-249af6a3998b')\"\n",
              "              title=\"Convert this dataframe to an interactive table.\"\n",
              "              style=\"display:none;\">\n",
              "        \n",
              "  <svg xmlns=\"http://www.w3.org/2000/svg\" height=\"24px\"viewBox=\"0 0 24 24\"\n",
              "       width=\"24px\">\n",
              "    <path d=\"M0 0h24v24H0V0z\" fill=\"none\"/>\n",
              "    <path d=\"M18.56 5.44l.94 2.06.94-2.06 2.06-.94-2.06-.94-.94-2.06-.94 2.06-2.06.94zm-11 1L8.5 8.5l.94-2.06 2.06-.94-2.06-.94L8.5 2.5l-.94 2.06-2.06.94zm10 10l.94 2.06.94-2.06 2.06-.94-2.06-.94-.94-2.06-.94 2.06-2.06.94z\"/><path d=\"M17.41 7.96l-1.37-1.37c-.4-.4-.92-.59-1.43-.59-.52 0-1.04.2-1.43.59L10.3 9.45l-7.72 7.72c-.78.78-.78 2.05 0 2.83L4 21.41c.39.39.9.59 1.41.59.51 0 1.02-.2 1.41-.59l7.78-7.78 2.81-2.81c.8-.78.8-2.07 0-2.86zM5.41 20L4 18.59l7.72-7.72 1.47 1.35L5.41 20z\"/>\n",
              "  </svg>\n",
              "      </button>\n",
              "      \n",
              "  <style>\n",
              "    .colab-df-container {\n",
              "      display:flex;\n",
              "      flex-wrap:wrap;\n",
              "      gap: 12px;\n",
              "    }\n",
              "\n",
              "    .colab-df-convert {\n",
              "      background-color: #E8F0FE;\n",
              "      border: none;\n",
              "      border-radius: 50%;\n",
              "      cursor: pointer;\n",
              "      display: none;\n",
              "      fill: #1967D2;\n",
              "      height: 32px;\n",
              "      padding: 0 0 0 0;\n",
              "      width: 32px;\n",
              "    }\n",
              "\n",
              "    .colab-df-convert:hover {\n",
              "      background-color: #E2EBFA;\n",
              "      box-shadow: 0px 1px 2px rgba(60, 64, 67, 0.3), 0px 1px 3px 1px rgba(60, 64, 67, 0.15);\n",
              "      fill: #174EA6;\n",
              "    }\n",
              "\n",
              "    [theme=dark] .colab-df-convert {\n",
              "      background-color: #3B4455;\n",
              "      fill: #D2E3FC;\n",
              "    }\n",
              "\n",
              "    [theme=dark] .colab-df-convert:hover {\n",
              "      background-color: #434B5C;\n",
              "      box-shadow: 0px 1px 3px 1px rgba(0, 0, 0, 0.15);\n",
              "      filter: drop-shadow(0px 1px 2px rgba(0, 0, 0, 0.3));\n",
              "      fill: #FFFFFF;\n",
              "    }\n",
              "  </style>\n",
              "\n",
              "      <script>\n",
              "        const buttonEl =\n",
              "          document.querySelector('#df-a7d0f2a9-923f-4cc1-8c2b-249af6a3998b button.colab-df-convert');\n",
              "        buttonEl.style.display =\n",
              "          google.colab.kernel.accessAllowed ? 'block' : 'none';\n",
              "\n",
              "        async function convertToInteractive(key) {\n",
              "          const element = document.querySelector('#df-a7d0f2a9-923f-4cc1-8c2b-249af6a3998b');\n",
              "          const dataTable =\n",
              "            await google.colab.kernel.invokeFunction('convertToInteractive',\n",
              "                                                     [key], {});\n",
              "          if (!dataTable) return;\n",
              "\n",
              "          const docLinkHtml = 'Like what you see? Visit the ' +\n",
              "            '<a target=\"_blank\" href=https://colab.research.google.com/notebooks/data_table.ipynb>data table notebook</a>'\n",
              "            + ' to learn more about interactive tables.';\n",
              "          element.innerHTML = '';\n",
              "          dataTable['output_type'] = 'display_data';\n",
              "          await google.colab.output.renderOutput(dataTable, element);\n",
              "          const docLink = document.createElement('div');\n",
              "          docLink.innerHTML = docLinkHtml;\n",
              "          element.appendChild(docLink);\n",
              "        }\n",
              "      </script>\n",
              "    </div>\n",
              "  </div>\n",
              "  "
            ],
            "text/plain": [
              "   ARREST_KEY  \\\n",
              "0   234233843   \n",
              "1   234129823   \n",
              "\n",
              "  ARREST_DATE  \\\n",
              "0   9/29/2021   \n",
              "1   9/27/2021   \n",
              "\n",
              "   PD_CD  \\\n",
              "0  105.0   \n",
              "1  157.0   \n",
              "\n",
              "             PD_DESC  \\\n",
              "0  STRANGULATION 1ST   \n",
              "1             RAPE 1   \n",
              "\n",
              "   KY_CD  \\\n",
              "0  106.0   \n",
              "1  104.0   \n",
              "\n",
              "        OFNS_DESC  \\\n",
              "0  FELONY ASSAULT   \n",
              "1            RAPE   \n",
              "\n",
              "     LAW_CODE  \\\n",
              "0  PL 1211200   \n",
              "1  PL 1303501   \n",
              "\n",
              "  LAW_CAT_CD  \\\n",
              "0          F   \n",
              "1          F   \n",
              "\n",
              "  ARREST_BORO  \\\n",
              "0           B   \n",
              "1           K   \n",
              "\n",
              "   ARREST_PRECINCT  \\\n",
              "0               42   \n",
              "1               77   \n",
              "\n",
              "   JURISDICTION_CODE  \\\n",
              "0                  0   \n",
              "1                  0   \n",
              "\n",
              "  AGE_GROUP  \\\n",
              "0     25-44   \n",
              "1     25-44   \n",
              "\n",
              "  PERP_SEX  \\\n",
              "0        M   \n",
              "1        M   \n",
              "\n",
              "  PERP_RACE  \\\n",
              "0     BLACK   \n",
              "1     BLACK   \n",
              "\n",
              "   X_COORD_CD  \\\n",
              "0     1009231   \n",
              "1     1003606   \n",
              "\n",
              "   Y_COORD_CD  \\\n",
              "0      240290   \n",
              "1      185050   \n",
              "\n",
              "    Latitude  \\\n",
              "0  40.826189   \n",
              "1  40.674583   \n",
              "\n",
              "   Longitude  \\\n",
              "0 -73.909738   \n",
              "1 -73.930222   \n",
              "\n",
              "                       New Georeferenced Column  \n",
              "0  POINT (-73.90973778899996 40.82618898100003)  \n",
              "1  POINT (-73.93022154099998 40.67458330800008)  "
            ]
          },
          "metadata": {},
          "execution_count": 986
        }
      ]
    },
    {
      "cell_type": "code",
      "source": [
        "df.tail(2)"
      ],
      "metadata": {
        "id": "rz8q5vkZ7ZRY",
        "colab": {
          "base_uri": "https://localhost:8080/",
          "height": 263
        },
        "outputId": "57f3ffec-25a7-4622-a20a-d3be125bfb2a"
      },
      "execution_count": null,
      "outputs": [
        {
          "output_type": "execute_result",
          "data": {
            "text/html": [
              "\n",
              "  <div id=\"df-83deb711-c0ed-4ffb-801f-77f27c5f4fa7\">\n",
              "    <div class=\"colab-df-container\">\n",
              "      <div>\n",
              "<style scoped>\n",
              "    .dataframe tbody tr th:only-of-type {\n",
              "        vertical-align: middle;\n",
              "    }\n",
              "\n",
              "    .dataframe tbody tr th {\n",
              "        vertical-align: top;\n",
              "    }\n",
              "\n",
              "    .dataframe thead th {\n",
              "        text-align: right;\n",
              "    }\n",
              "</style>\n",
              "<table border=\"1\" class=\"dataframe\">\n",
              "  <thead>\n",
              "    <tr style=\"text-align: right;\">\n",
              "      <th></th>\n",
              "      <th>ARREST_KEY</th>\n",
              "      <th>ARREST_DATE</th>\n",
              "      <th>PD_CD</th>\n",
              "      <th>PD_DESC</th>\n",
              "      <th>KY_CD</th>\n",
              "      <th>OFNS_DESC</th>\n",
              "      <th>LAW_CODE</th>\n",
              "      <th>LAW_CAT_CD</th>\n",
              "      <th>ARREST_BORO</th>\n",
              "      <th>ARREST_PRECINCT</th>\n",
              "      <th>JURISDICTION_CODE</th>\n",
              "      <th>AGE_GROUP</th>\n",
              "      <th>PERP_SEX</th>\n",
              "      <th>PERP_RACE</th>\n",
              "      <th>X_COORD_CD</th>\n",
              "      <th>Y_COORD_CD</th>\n",
              "      <th>Latitude</th>\n",
              "      <th>Longitude</th>\n",
              "      <th>New Georeferenced Column</th>\n",
              "    </tr>\n",
              "  </thead>\n",
              "  <tbody>\n",
              "    <tr>\n",
              "      <th>115297</th>\n",
              "      <td>222728174</td>\n",
              "      <td>1/7/2021</td>\n",
              "      <td>339.0</td>\n",
              "      <td>LARCENY,PETIT FROM OPEN AREAS,</td>\n",
              "      <td>341.0</td>\n",
              "      <td>PETIT LARCENY</td>\n",
              "      <td>PL 1552500</td>\n",
              "      <td>M</td>\n",
              "      <td>Q</td>\n",
              "      <td>114</td>\n",
              "      <td>0</td>\n",
              "      <td>25-44</td>\n",
              "      <td>M</td>\n",
              "      <td>WHITE HISPANIC</td>\n",
              "      <td>1007694</td>\n",
              "      <td>219657</td>\n",
              "      <td>40.769561</td>\n",
              "      <td>-73.915363</td>\n",
              "      <td>POINT (-73.91536344699995 40.76956124200007)</td>\n",
              "    </tr>\n",
              "    <tr>\n",
              "      <th>115298</th>\n",
              "      <td>222535613</td>\n",
              "      <td>1/3/2021</td>\n",
              "      <td>792.0</td>\n",
              "      <td>WEAPONS POSSESSION 1 &amp; 2</td>\n",
              "      <td>118.0</td>\n",
              "      <td>DANGEROUS WEAPONS</td>\n",
              "      <td>PL 265031B</td>\n",
              "      <td>F</td>\n",
              "      <td>K</td>\n",
              "      <td>67</td>\n",
              "      <td>0</td>\n",
              "      <td>25-44</td>\n",
              "      <td>M</td>\n",
              "      <td>BLACK</td>\n",
              "      <td>1000054</td>\n",
              "      <td>173952</td>\n",
              "      <td>40.644129</td>\n",
              "      <td>-73.943053</td>\n",
              "      <td>POINT (-73.94305278599995 40.64412879400004)</td>\n",
              "    </tr>\n",
              "  </tbody>\n",
              "</table>\n",
              "</div>\n",
              "      <button class=\"colab-df-convert\" onclick=\"convertToInteractive('df-83deb711-c0ed-4ffb-801f-77f27c5f4fa7')\"\n",
              "              title=\"Convert this dataframe to an interactive table.\"\n",
              "              style=\"display:none;\">\n",
              "        \n",
              "  <svg xmlns=\"http://www.w3.org/2000/svg\" height=\"24px\"viewBox=\"0 0 24 24\"\n",
              "       width=\"24px\">\n",
              "    <path d=\"M0 0h24v24H0V0z\" fill=\"none\"/>\n",
              "    <path d=\"M18.56 5.44l.94 2.06.94-2.06 2.06-.94-2.06-.94-.94-2.06-.94 2.06-2.06.94zm-11 1L8.5 8.5l.94-2.06 2.06-.94-2.06-.94L8.5 2.5l-.94 2.06-2.06.94zm10 10l.94 2.06.94-2.06 2.06-.94-2.06-.94-.94-2.06-.94 2.06-2.06.94z\"/><path d=\"M17.41 7.96l-1.37-1.37c-.4-.4-.92-.59-1.43-.59-.52 0-1.04.2-1.43.59L10.3 9.45l-7.72 7.72c-.78.78-.78 2.05 0 2.83L4 21.41c.39.39.9.59 1.41.59.51 0 1.02-.2 1.41-.59l7.78-7.78 2.81-2.81c.8-.78.8-2.07 0-2.86zM5.41 20L4 18.59l7.72-7.72 1.47 1.35L5.41 20z\"/>\n",
              "  </svg>\n",
              "      </button>\n",
              "      \n",
              "  <style>\n",
              "    .colab-df-container {\n",
              "      display:flex;\n",
              "      flex-wrap:wrap;\n",
              "      gap: 12px;\n",
              "    }\n",
              "\n",
              "    .colab-df-convert {\n",
              "      background-color: #E8F0FE;\n",
              "      border: none;\n",
              "      border-radius: 50%;\n",
              "      cursor: pointer;\n",
              "      display: none;\n",
              "      fill: #1967D2;\n",
              "      height: 32px;\n",
              "      padding: 0 0 0 0;\n",
              "      width: 32px;\n",
              "    }\n",
              "\n",
              "    .colab-df-convert:hover {\n",
              "      background-color: #E2EBFA;\n",
              "      box-shadow: 0px 1px 2px rgba(60, 64, 67, 0.3), 0px 1px 3px 1px rgba(60, 64, 67, 0.15);\n",
              "      fill: #174EA6;\n",
              "    }\n",
              "\n",
              "    [theme=dark] .colab-df-convert {\n",
              "      background-color: #3B4455;\n",
              "      fill: #D2E3FC;\n",
              "    }\n",
              "\n",
              "    [theme=dark] .colab-df-convert:hover {\n",
              "      background-color: #434B5C;\n",
              "      box-shadow: 0px 1px 3px 1px rgba(0, 0, 0, 0.15);\n",
              "      filter: drop-shadow(0px 1px 2px rgba(0, 0, 0, 0.3));\n",
              "      fill: #FFFFFF;\n",
              "    }\n",
              "  </style>\n",
              "\n",
              "      <script>\n",
              "        const buttonEl =\n",
              "          document.querySelector('#df-83deb711-c0ed-4ffb-801f-77f27c5f4fa7 button.colab-df-convert');\n",
              "        buttonEl.style.display =\n",
              "          google.colab.kernel.accessAllowed ? 'block' : 'none';\n",
              "\n",
              "        async function convertToInteractive(key) {\n",
              "          const element = document.querySelector('#df-83deb711-c0ed-4ffb-801f-77f27c5f4fa7');\n",
              "          const dataTable =\n",
              "            await google.colab.kernel.invokeFunction('convertToInteractive',\n",
              "                                                     [key], {});\n",
              "          if (!dataTable) return;\n",
              "\n",
              "          const docLinkHtml = 'Like what you see? Visit the ' +\n",
              "            '<a target=\"_blank\" href=https://colab.research.google.com/notebooks/data_table.ipynb>data table notebook</a>'\n",
              "            + ' to learn more about interactive tables.';\n",
              "          element.innerHTML = '';\n",
              "          dataTable['output_type'] = 'display_data';\n",
              "          await google.colab.output.renderOutput(dataTable, element);\n",
              "          const docLink = document.createElement('div');\n",
              "          docLink.innerHTML = docLinkHtml;\n",
              "          element.appendChild(docLink);\n",
              "        }\n",
              "      </script>\n",
              "    </div>\n",
              "  </div>\n",
              "  "
            ],
            "text/plain": [
              "        ARREST_KEY  \\\n",
              "115297   222728174   \n",
              "115298   222535613   \n",
              "\n",
              "       ARREST_DATE  \\\n",
              "115297    1/7/2021   \n",
              "115298    1/3/2021   \n",
              "\n",
              "        PD_CD  \\\n",
              "115297  339.0   \n",
              "115298  792.0   \n",
              "\n",
              "                               PD_DESC  \\\n",
              "115297  LARCENY,PETIT FROM OPEN AREAS,   \n",
              "115298        WEAPONS POSSESSION 1 & 2   \n",
              "\n",
              "        KY_CD  \\\n",
              "115297  341.0   \n",
              "115298  118.0   \n",
              "\n",
              "                OFNS_DESC  \\\n",
              "115297      PETIT LARCENY   \n",
              "115298  DANGEROUS WEAPONS   \n",
              "\n",
              "          LAW_CODE  \\\n",
              "115297  PL 1552500   \n",
              "115298  PL 265031B   \n",
              "\n",
              "       LAW_CAT_CD  \\\n",
              "115297          M   \n",
              "115298          F   \n",
              "\n",
              "       ARREST_BORO  \\\n",
              "115297           Q   \n",
              "115298           K   \n",
              "\n",
              "        ARREST_PRECINCT  \\\n",
              "115297              114   \n",
              "115298               67   \n",
              "\n",
              "        JURISDICTION_CODE  \\\n",
              "115297                  0   \n",
              "115298                  0   \n",
              "\n",
              "       AGE_GROUP  \\\n",
              "115297     25-44   \n",
              "115298     25-44   \n",
              "\n",
              "       PERP_SEX  \\\n",
              "115297        M   \n",
              "115298        M   \n",
              "\n",
              "             PERP_RACE  \\\n",
              "115297  WHITE HISPANIC   \n",
              "115298           BLACK   \n",
              "\n",
              "        X_COORD_CD  \\\n",
              "115297     1007694   \n",
              "115298     1000054   \n",
              "\n",
              "        Y_COORD_CD  \\\n",
              "115297      219657   \n",
              "115298      173952   \n",
              "\n",
              "         Latitude  \\\n",
              "115297  40.769561   \n",
              "115298  40.644129   \n",
              "\n",
              "        Longitude  \\\n",
              "115297 -73.915363   \n",
              "115298 -73.943053   \n",
              "\n",
              "                            New Georeferenced Column  \n",
              "115297  POINT (-73.91536344699995 40.76956124200007)  \n",
              "115298  POINT (-73.94305278599995 40.64412879400004)  "
            ]
          },
          "metadata": {},
          "execution_count": 987
        }
      ]
    },
    {
      "cell_type": "code",
      "source": [
        "#Shows the list/count of unique values for each column/ variable in the dataset\n",
        "df.nunique(axis=0)"
      ],
      "metadata": {
        "colab": {
          "base_uri": "https://localhost:8080/"
        },
        "id": "W2FL_qJzVF87",
        "outputId": "3046d44d-ee25-4164-dd47-9e260cbcca59"
      },
      "execution_count": null,
      "outputs": [
        {
          "output_type": "execute_result",
          "data": {
            "text/plain": [
              "ARREST_KEY                  115299\n",
              "ARREST_DATE                    273\n",
              "PD_CD                          252\n",
              "PD_DESC                        233\n",
              "KY_CD                           66\n",
              "OFNS_DESC                       63\n",
              "LAW_CODE                       922\n",
              "LAW_CAT_CD                       4\n",
              "ARREST_BORO                      5\n",
              "ARREST_PRECINCT                 77\n",
              "JURISDICTION_CODE               25\n",
              "AGE_GROUP                        5\n",
              "PERP_SEX                         2\n",
              "PERP_RACE                        7\n",
              "X_COORD_CD                   23851\n",
              "Y_COORD_CD                   25306\n",
              "Latitude                     28820\n",
              "Longitude                    28823\n",
              "New Georeferenced Column     28859\n",
              "dtype: int64"
            ]
          },
          "metadata": {},
          "execution_count": 988
        }
      ]
    },
    {
      "cell_type": "code",
      "source": [
        "#List data type of each variable/ column in original dataset\n",
        "df.dtypes"
      ],
      "metadata": {
        "colab": {
          "base_uri": "https://localhost:8080/"
        },
        "id": "dPlR-mwSFu1x",
        "outputId": "3ac82c20-b634-4b40-a6e2-f0d6cdb06fb2"
      },
      "execution_count": null,
      "outputs": [
        {
          "output_type": "execute_result",
          "data": {
            "text/plain": [
              "ARREST_KEY                    int64\n",
              "ARREST_DATE                  object\n",
              "PD_CD                       float64\n",
              "PD_DESC                      object\n",
              "KY_CD                       float64\n",
              "OFNS_DESC                    object\n",
              "LAW_CODE                     object\n",
              "LAW_CAT_CD                   object\n",
              "ARREST_BORO                  object\n",
              "ARREST_PRECINCT               int64\n",
              "JURISDICTION_CODE             int64\n",
              "AGE_GROUP                    object\n",
              "PERP_SEX                     object\n",
              "PERP_RACE                    object\n",
              "X_COORD_CD                    int64\n",
              "Y_COORD_CD                    int64\n",
              "Latitude                    float64\n",
              "Longitude                   float64\n",
              "New Georeferenced Column     object\n",
              "dtype: object"
            ]
          },
          "metadata": {},
          "execution_count": 989
        }
      ]
    },
    {
      "cell_type": "code",
      "source": [
        "# Identifying missing values in dataset\n",
        "df.isnull().sum()"
      ],
      "metadata": {
        "colab": {
          "base_uri": "https://localhost:8080/"
        },
        "id": "GCWtNua3PscL",
        "outputId": "984ed74e-3ca9-4ac0-bcba-3c8daaff51cd"
      },
      "execution_count": null,
      "outputs": [
        {
          "output_type": "execute_result",
          "data": {
            "text/plain": [
              "ARREST_KEY                     0\n",
              "ARREST_DATE                    0\n",
              "PD_CD                         21\n",
              "PD_DESC                       61\n",
              "KY_CD                         61\n",
              "OFNS_DESC                     61\n",
              "LAW_CODE                       0\n",
              "LAW_CAT_CD                  1078\n",
              "ARREST_BORO                    0\n",
              "ARREST_PRECINCT                0\n",
              "JURISDICTION_CODE              0\n",
              "AGE_GROUP                      0\n",
              "PERP_SEX                       0\n",
              "PERP_RACE                      0\n",
              "X_COORD_CD                     0\n",
              "Y_COORD_CD                     0\n",
              "Latitude                       0\n",
              "Longitude                      0\n",
              "New Georeferenced Column       0\n",
              "dtype: int64"
            ]
          },
          "metadata": {},
          "execution_count": 990
        }
      ]
    },
    {
      "cell_type": "code",
      "source": [
        "#Showing a heat map of missing values - shows exactly where missing values are in dataset\n",
        "sns.heatmap(df.isnull(),cbar=False,cmap='viridis')"
      ],
      "metadata": {
        "colab": {
          "base_uri": "https://localhost:8080/",
          "height": 420
        },
        "id": "qaFOFYM6So57",
        "outputId": "eb17823c-6894-4f38-8c6f-8980cc1e9f1c"
      },
      "execution_count": null,
      "outputs": [
        {
          "output_type": "execute_result",
          "data": {
            "text/plain": [
              "<matplotlib.axes._subplots.AxesSubplot at 0x7f83591aa650>"
            ]
          },
          "metadata": {},
          "execution_count": 991
        },
        {
          "output_type": "display_data",
          "data": {
            "image/png": "[encoded data removed]",
            "text/plain": [
              "<Figure size 432x288 with 1 Axes>"
            ]
          },
          "metadata": {
            "needs_background": "light"
          }
        }
      ]
    },
    {
      "cell_type": "code",
      "source": [
        "# df.info shows column names, col# or index, datatypes\n",
        "df.info()"
      ],
      "metadata": {
        "id": "XEhd8VVN8Jop",
        "colab": {
          "base_uri": "https://localhost:8080/"
        },
        "outputId": "9617fcd1-e29d-4d56-8f26-fce81717fc4e"
      },
      "execution_count": null,
      "outputs": [
        {
          "output_type": "stream",
          "name": "stdout",
          "text": [
            "<class 'pandas.core.frame.DataFrame'>\n",
            "RangeIndex: 115299 entries, 0 to 115298\n",
            "Data columns (total 19 columns):\n",
            " #   Column                    Non-Null Count   Dtype  \n",
            "---  ------                    --------------   -----  \n",
            " 0   ARREST_KEY                115299 non-null  int64  \n",
            " 1   ARREST_DATE               115299 non-null  object \n",
            " 2   PD_CD                     115278 non-null  float64\n",
            " 3   PD_DESC                   115238 non-null  object \n",
            " 4   KY_CD                     115238 non-null  float64\n",
            " 5   OFNS_DESC                 115238 non-null  object \n",
            " 6   LAW_CODE                  115299 non-null  object \n",
            " 7   LAW_CAT_CD                114221 non-null  object \n",
            " 8   ARREST_BORO               115299 non-null  object \n",
            " 9   ARREST_PRECINCT           115299 non-null  int64  \n",
            " 10  JURISDICTION_CODE         115299 non-null  int64  \n",
            " 11  AGE_GROUP                 115299 non-null  object \n",
            " 12  PERP_SEX                  115299 non-null  object \n",
            " 13  PERP_RACE                 115299 non-null  object \n",
            " 14  X_COORD_CD                115299 non-null  int64  \n",
            " 15  Y_COORD_CD                115299 non-null  int64  \n",
            " 16  Latitude                  115299 non-null  float64\n",
            " 17  Longitude                 115299 non-null  float64\n",
            " 18  New Georeferenced Column  115299 non-null  object \n",
            "dtypes: float64(4), int64(5), object(10)\n",
            "memory usage: 16.7+ MB\n"
          ]
        }
      ]
    },
    {
      "cell_type": "markdown",
      "source": [
        "# **Step 3. **\n",
        "\n",
        "- **Cleaning Data**\n",
        " - e.g. dropping rows with missing values\n",
        "- **Transforming Data**\n",
        "  - Indexing\n",
        "  - Formatting\n",
        "  - Renaming columns/ variables\n",
        "  - Organizing\n",
        "  - Converting datatypes e.g. Arrest Date"
      ],
      "metadata": {
        "id": "hrxCAUODOSNZ"
      }
    },
    {
      "cell_type": "code",
      "source": [
        "#Set column ARREST_KEY as index inplace - changing the shape of the dataframe by 1 column\n",
        "df.set_index('ARREST_KEY', inplace=True)"
      ],
      "metadata": {
        "id": "Os__f9zt6AHl"
      },
      "execution_count": null,
      "outputs": []
    },
    {
      "cell_type": "code",
      "source": [
        "#Shows 18 columns now instead of 19 (ARREST_KEY  is now the index) \n",
        "df.shape"
      ],
      "metadata": {
        "colab": {
          "base_uri": "https://localhost:8080/"
        },
        "id": "pW9uKLXGuVgN",
        "outputId": "38574d64-2b70-4b18-b68f-139525fecf85"
      },
      "execution_count": null,
      "outputs": [
        {
          "output_type": "execute_result",
          "data": {
            "text/plain": [
              "(115299, 18)"
            ]
          },
          "metadata": {},
          "execution_count": 994
        }
      ]
    },
    {
      "cell_type": "code",
      "source": [
        "#Shows ARREST_KEY as index\n",
        "df.sample(3)"
      ],
      "metadata": {
        "id": "KFgF_MsfV-6k",
        "colab": {
          "base_uri": "https://localhost:8080/",
          "height": 360
        },
        "outputId": "3af9d9df-87ed-4cd1-fdf2-dbc8e5b3f736"
      },
      "execution_count": null,
      "outputs": [
        {
          "output_type": "execute_result",
          "data": {
            "text/html": [
              "\n",
              "  <div id=\"df-48b20c04-1e51-4109-ad2e-3537fae754fd\">\n",
              "    <div class=\"colab-df-container\">\n",
              "      <div>\n",
              "<style scoped>\n",
              "    .dataframe tbody tr th:only-of-type {\n",
              "        vertical-align: middle;\n",
              "    }\n",
              "\n",
              "    .dataframe tbody tr th {\n",
              "        vertical-align: top;\n",
              "    }\n",
              "\n",
              "    .dataframe thead th {\n",
              "        text-align: right;\n",
              "    }\n",
              "</style>\n",
              "<table border=\"1\" class=\"dataframe\">\n",
              "  <thead>\n",
              "    <tr style=\"text-align: right;\">\n",
              "      <th></th>\n",
              "      <th>ARREST_DATE</th>\n",
              "      <th>PD_CD</th>\n",
              "      <th>PD_DESC</th>\n",
              "      <th>KY_CD</th>\n",
              "      <th>OFNS_DESC</th>\n",
              "      <th>LAW_CODE</th>\n",
              "      <th>LAW_CAT_CD</th>\n",
              "      <th>ARREST_BORO</th>\n",
              "      <th>ARREST_PRECINCT</th>\n",
              "      <th>JURISDICTION_CODE</th>\n",
              "      <th>AGE_GROUP</th>\n",
              "      <th>PERP_SEX</th>\n",
              "      <th>PERP_RACE</th>\n",
              "      <th>X_COORD_CD</th>\n",
              "      <th>Y_COORD_CD</th>\n",
              "      <th>Latitude</th>\n",
              "      <th>Longitude</th>\n",
              "      <th>New Georeferenced Column</th>\n",
              "    </tr>\n",
              "    <tr>\n",
              "      <th>ARREST_KEY</th>\n",
              "      <th></th>\n",
              "      <th></th>\n",
              "      <th></th>\n",
              "      <th></th>\n",
              "      <th></th>\n",
              "      <th></th>\n",
              "      <th></th>\n",
              "      <th></th>\n",
              "      <th></th>\n",
              "      <th></th>\n",
              "      <th></th>\n",
              "      <th></th>\n",
              "      <th></th>\n",
              "      <th></th>\n",
              "      <th></th>\n",
              "      <th></th>\n",
              "      <th></th>\n",
              "      <th></th>\n",
              "    </tr>\n",
              "  </thead>\n",
              "  <tbody>\n",
              "    <tr>\n",
              "      <th>230862799</th>\n",
              "      <td>7/15/2021</td>\n",
              "      <td>397.0</td>\n",
              "      <td>ROBBERY,OPEN AREA UNCLASSIFIED</td>\n",
              "      <td>105.0</td>\n",
              "      <td>ROBBERY</td>\n",
              "      <td>PL 1601503</td>\n",
              "      <td>F</td>\n",
              "      <td>K</td>\n",
              "      <td>75</td>\n",
              "      <td>0</td>\n",
              "      <td>&lt;18</td>\n",
              "      <td>M</td>\n",
              "      <td>BLACK</td>\n",
              "      <td>1014309</td>\n",
              "      <td>183596</td>\n",
              "      <td>40.670563</td>\n",
              "      <td>-73.891643</td>\n",
              "      <td>POINT (-73.89164290099995 40.670562535000045)</td>\n",
              "    </tr>\n",
              "    <tr>\n",
              "      <th>224590755</th>\n",
              "      <td>2/19/2021</td>\n",
              "      <td>397.0</td>\n",
              "      <td>ROBBERY,OPEN AREA UNCLASSIFIED</td>\n",
              "      <td>105.0</td>\n",
              "      <td>ROBBERY</td>\n",
              "      <td>PL 160102A</td>\n",
              "      <td>F</td>\n",
              "      <td>K</td>\n",
              "      <td>73</td>\n",
              "      <td>0</td>\n",
              "      <td>25-44</td>\n",
              "      <td>F</td>\n",
              "      <td>BLACK</td>\n",
              "      <td>1009794</td>\n",
              "      <td>179276</td>\n",
              "      <td>40.658719</td>\n",
              "      <td>-73.907935</td>\n",
              "      <td>POINT (-73.90793520499993 40.658719276000056)</td>\n",
              "    </tr>\n",
              "    <tr>\n",
              "      <th>225149629</th>\n",
              "      <td>3/5/2021</td>\n",
              "      <td>511.0</td>\n",
              "      <td>CONTROLLED SUBSTANCE, POSSESSI</td>\n",
              "      <td>235.0</td>\n",
              "      <td>DANGEROUS DRUGS</td>\n",
              "      <td>PL 2200300</td>\n",
              "      <td>M</td>\n",
              "      <td>S</td>\n",
              "      <td>122</td>\n",
              "      <td>0</td>\n",
              "      <td>25-44</td>\n",
              "      <td>F</td>\n",
              "      <td>WHITE</td>\n",
              "      <td>962049</td>\n",
              "      <td>156598</td>\n",
              "      <td>40.596482</td>\n",
              "      <td>-74.079944</td>\n",
              "      <td>POINT (-74.07994417699997 40.59648195900007)</td>\n",
              "    </tr>\n",
              "  </tbody>\n",
              "</table>\n",
              "</div>\n",
              "      <button class=\"colab-df-convert\" onclick=\"convertToInteractive('df-48b20c04-1e51-4109-ad2e-3537fae754fd')\"\n",
              "              title=\"Convert this dataframe to an interactive table.\"\n",
              "              style=\"display:none;\">\n",
              "        \n",
              "  <svg xmlns=\"http://www.w3.org/2000/svg\" height=\"24px\"viewBox=\"0 0 24 24\"\n",
              "       width=\"24px\">\n",
              "    <path d=\"M0 0h24v24H0V0z\" fill=\"none\"/>\n",
              "    <path d=\"M18.56 5.44l.94 2.06.94-2.06 2.06-.94-2.06-.94-.94-2.06-.94 2.06-2.06.94zm-11 1L8.5 8.5l.94-2.06 2.06-.94-2.06-.94L8.5 2.5l-.94 2.06-2.06.94zm10 10l.94 2.06.94-2.06 2.06-.94-2.06-.94-.94-2.06-.94 2.06-2.06.94z\"/><path d=\"M17.41 7.96l-1.37-1.37c-.4-.4-.92-.59-1.43-.59-.52 0-1.04.2-1.43.59L10.3 9.45l-7.72 7.72c-.78.78-.78 2.05 0 2.83L4 21.41c.39.39.9.59 1.41.59.51 0 1.02-.2 1.41-.59l7.78-7.78 2.81-2.81c.8-.78.8-2.07 0-2.86zM5.41 20L4 18.59l7.72-7.72 1.47 1.35L5.41 20z\"/>\n",
              "  </svg>\n",
              "      </button>\n",
              "      \n",
              "  <style>\n",
              "    .colab-df-container {\n",
              "      display:flex;\n",
              "      flex-wrap:wrap;\n",
              "      gap: 12px;\n",
              "    }\n",
              "\n",
              "    .colab-df-convert {\n",
              "      background-color: #E8F0FE;\n",
              "      border: none;\n",
              "      border-radius: 50%;\n",
              "      cursor: pointer;\n",
              "      display: none;\n",
              "      fill: #1967D2;\n",
              "      height: 32px;\n",
              "      padding: 0 0 0 0;\n",
              "      width: 32px;\n",
              "    }\n",
              "\n",
              "    .colab-df-convert:hover {\n",
              "      background-color: #E2EBFA;\n",
              "      box-shadow: 0px 1px 2px rgba(60, 64, 67, 0.3), 0px 1px 3px 1px rgba(60, 64, 67, 0.15);\n",
              "      fill: #174EA6;\n",
              "    }\n",
              "\n",
              "    [theme=dark] .colab-df-convert {\n",
              "      background-color: #3B4455;\n",
              "      fill: #D2E3FC;\n",
              "    }\n",
              "\n",
              "    [theme=dark] .colab-df-convert:hover {\n",
              "      background-color: #434B5C;\n",
              "      box-shadow: 0px 1px 3px 1px rgba(0, 0, 0, 0.15);\n",
              "      filter: drop-shadow(0px 1px 2px rgba(0, 0, 0, 0.3));\n",
              "      fill: #FFFFFF;\n",
              "    }\n",
              "  </style>\n",
              "\n",
              "      <script>\n",
              "        const buttonEl =\n",
              "          document.querySelector('#df-48b20c04-1e51-4109-ad2e-3537fae754fd button.colab-df-convert');\n",
              "        buttonEl.style.display =\n",
              "          google.colab.kernel.accessAllowed ? 'block' : 'none';\n",
              "\n",
              "        async function convertToInteractive(key) {\n",
              "          const element = document.querySelector('#df-48b20c04-1e51-4109-ad2e-3537fae754fd');\n",
              "          const dataTable =\n",
              "            await google.colab.kernel.invokeFunction('convertToInteractive',\n",
              "                                                     [key], {});\n",
              "          if (!dataTable) return;\n",
              "\n",
              "          const docLinkHtml = 'Like what you see? Visit the ' +\n",
              "            '<a target=\"_blank\" href=https://colab.research.google.com/notebooks/data_table.ipynb>data table notebook</a>'\n",
              "            + ' to learn more about interactive tables.';\n",
              "          element.innerHTML = '';\n",
              "          dataTable['output_type'] = 'display_data';\n",
              "          await google.colab.output.renderOutput(dataTable, element);\n",
              "          const docLink = document.createElement('div');\n",
              "          docLink.innerHTML = docLinkHtml;\n",
              "          element.appendChild(docLink);\n",
              "        }\n",
              "      </script>\n",
              "    </div>\n",
              "  </div>\n",
              "  "
            ],
            "text/plain": [
              "           ARREST_DATE  \\\n",
              "ARREST_KEY               \n",
              "230862799    7/15/2021   \n",
              "224590755    2/19/2021   \n",
              "225149629     3/5/2021   \n",
              "\n",
              "            PD_CD  \\\n",
              "ARREST_KEY          \n",
              "230862799   397.0   \n",
              "224590755   397.0   \n",
              "225149629   511.0   \n",
              "\n",
              "                                   PD_DESC  \\\n",
              "ARREST_KEY                                   \n",
              "230862799   ROBBERY,OPEN AREA UNCLASSIFIED   \n",
              "224590755   ROBBERY,OPEN AREA UNCLASSIFIED   \n",
              "225149629   CONTROLLED SUBSTANCE, POSSESSI   \n",
              "\n",
              "            KY_CD  \\\n",
              "ARREST_KEY          \n",
              "230862799   105.0   \n",
              "224590755   105.0   \n",
              "225149629   235.0   \n",
              "\n",
              "                  OFNS_DESC  \\\n",
              "ARREST_KEY                    \n",
              "230862799           ROBBERY   \n",
              "224590755           ROBBERY   \n",
              "225149629   DANGEROUS DRUGS   \n",
              "\n",
              "              LAW_CODE  \\\n",
              "ARREST_KEY               \n",
              "230862799   PL 1601503   \n",
              "224590755   PL 160102A   \n",
              "225149629   PL 2200300   \n",
              "\n",
              "           LAW_CAT_CD  \\\n",
              "ARREST_KEY              \n",
              "230862799           F   \n",
              "224590755           F   \n",
              "225149629           M   \n",
              "\n",
              "           ARREST_BORO  \\\n",
              "ARREST_KEY               \n",
              "230862799            K   \n",
              "224590755            K   \n",
              "225149629            S   \n",
              "\n",
              "            ARREST_PRECINCT  \\\n",
              "ARREST_KEY                    \n",
              "230862799                75   \n",
              "224590755                73   \n",
              "225149629               122   \n",
              "\n",
              "            JURISDICTION_CODE  \\\n",
              "ARREST_KEY                      \n",
              "230862799                   0   \n",
              "224590755                   0   \n",
              "225149629                   0   \n",
              "\n",
              "           AGE_GROUP  \\\n",
              "ARREST_KEY             \n",
              "230862799        <18   \n",
              "224590755      25-44   \n",
              "225149629      25-44   \n",
              "\n",
              "           PERP_SEX  \\\n",
              "ARREST_KEY            \n",
              "230862799         M   \n",
              "224590755         F   \n",
              "225149629         F   \n",
              "\n",
              "           PERP_RACE  \\\n",
              "ARREST_KEY             \n",
              "230862799      BLACK   \n",
              "224590755      BLACK   \n",
              "225149629      WHITE   \n",
              "\n",
              "            X_COORD_CD  \\\n",
              "ARREST_KEY               \n",
              "230862799      1014309   \n",
              "224590755      1009794   \n",
              "225149629       962049   \n",
              "\n",
              "            Y_COORD_CD  \\\n",
              "ARREST_KEY               \n",
              "230862799       183596   \n",
              "224590755       179276   \n",
              "225149629       156598   \n",
              "\n",
              "             Latitude  \\\n",
              "ARREST_KEY              \n",
              "230862799   40.670563   \n",
              "224590755   40.658719   \n",
              "225149629   40.596482   \n",
              "\n",
              "            Longitude  \\\n",
              "ARREST_KEY              \n",
              "230862799  -73.891643   \n",
              "224590755  -73.907935   \n",
              "225149629  -74.079944   \n",
              "\n",
              "                                 New Georeferenced Column  \n",
              "ARREST_KEY                                                 \n",
              "230862799   POINT (-73.89164290099995 40.670562535000045)  \n",
              "224590755   POINT (-73.90793520499993 40.658719276000056)  \n",
              "225149629    POINT (-74.07994417699997 40.59648195900007)  "
            ]
          },
          "metadata": {},
          "execution_count": 995
        }
      ]
    },
    {
      "cell_type": "code",
      "source": [
        "#Transforming column ARREST_BORO values from single letter code to full string Borough name\n",
        "df['ARREST_BORO'].replace([\"B\",\"S\",\"Q\", \"K\", \"M\"], [\"Bronx\",\"Staten Island\",\"Queens\", \"Brooklyn\", \"Manhattan\"], inplace = True)\n",
        "df['PERP_SEX'].replace([\"M\",\"F\"], [1,2], inplace = True)\n",
        "df['AGE_GROUP'].replace([\"<18\", \"18-24\", \"25-44\", \"45-64\", \"65+\"], [1,2,3,4,5], inplace = True)"
      ],
      "metadata": {
        "id": "f5CMmi93O7xH"
      },
      "execution_count": null,
      "outputs": []
    },
    {
      "cell_type": "code",
      "source": [
        "#Data conversion - converting column ARREST_DATE datatype object to date\n",
        "df['ARREST_DATE'] = pd.to_datetime(df['ARREST_DATE'])\n",
        "#Renaming columns\n",
        "df.rename(columns = {'ARREST_BORO':'BOROUGH', 'PERP_SEX':'GENDER', 'ARREST_DATE':'DATE_OF_ARREST'}, inplace=True)"
      ],
      "metadata": {
        "id": "Ks9pbGZYxOzi"
      },
      "execution_count": null,
      "outputs": []
    },
    {
      "cell_type": "code",
      "source": [
        "df.info()"
      ],
      "metadata": {
        "colab": {
          "base_uri": "https://localhost:8080/"
        },
        "id": "z2ApfjYrK-sG",
        "outputId": "ba3ca807-d80a-48c8-f2b8-6ca731a4491b"
      },
      "execution_count": null,
      "outputs": [
        {
          "output_type": "stream",
          "name": "stdout",
          "text": [
            "<class 'pandas.core.frame.DataFrame'>\n",
            "Int64Index: 115299 entries, 234233843 to 222535613\n",
            "Data columns (total 18 columns):\n",
            " #   Column                    Non-Null Count   Dtype         \n",
            "---  ------                    --------------   -----         \n",
            " 0   DATE_OF_ARREST            115299 non-null  datetime64[ns]\n",
            " 1   PD_CD                     115278 non-null  float64       \n",
            " 2   PD_DESC                   115238 non-null  object        \n",
            " 3   KY_CD                     115238 non-null  float64       \n",
            " 4   OFNS_DESC                 115238 non-null  object        \n",
            " 5   LAW_CODE                  115299 non-null  object        \n",
            " 6   LAW_CAT_CD                114221 non-null  object        \n",
            " 7   BOROUGH                   115299 non-null  object        \n",
            " 8   ARREST_PRECINCT           115299 non-null  int64         \n",
            " 9   JURISDICTION_CODE         115299 non-null  int64         \n",
            " 10  AGE_GROUP                 115299 non-null  int64         \n",
            " 11  GENDER                    115299 non-null  int64         \n",
            " 12  PERP_RACE                 115299 non-null  object        \n",
            " 13  X_COORD_CD                115299 non-null  int64         \n",
            " 14  Y_COORD_CD                115299 non-null  int64         \n",
            " 15  Latitude                  115299 non-null  float64       \n",
            " 16  Longitude                 115299 non-null  float64       \n",
            " 17  New Georeferenced Column  115299 non-null  object        \n",
            "dtypes: datetime64[ns](1), float64(4), int64(6), object(7)\n",
            "memory usage: 16.7+ MB\n"
          ]
        }
      ]
    },
    {
      "cell_type": "code",
      "source": [
        "# Remove some contiguous columns\n",
        "df.drop(df.iloc[:, 12:18], inplace = True, axis = 1)\n",
        "df.head(2)"
      ],
      "metadata": {
        "colab": {
          "base_uri": "https://localhost:8080/",
          "height": 242
        },
        "id": "9PapuTKuIkWZ",
        "outputId": "4feb0e54-8f88-49bb-85b0-7b9cdd7662ff"
      },
      "execution_count": null,
      "outputs": [
        {
          "output_type": "execute_result",
          "data": {
            "text/html": [
              "\n",
              "  <div id=\"df-57446e41-34cb-46c9-a622-d710342390c1\">\n",
              "    <div class=\"colab-df-container\">\n",
              "      <div>\n",
              "<style scoped>\n",
              "    .dataframe tbody tr th:only-of-type {\n",
              "        vertical-align: middle;\n",
              "    }\n",
              "\n",
              "    .dataframe tbody tr th {\n",
              "        vertical-align: top;\n",
              "    }\n",
              "\n",
              "    .dataframe thead th {\n",
              "        text-align: right;\n",
              "    }\n",
              "</style>\n",
              "<table border=\"1\" class=\"dataframe\">\n",
              "  <thead>\n",
              "    <tr style=\"text-align: right;\">\n",
              "      <th></th>\n",
              "      <th>DATE_OF_ARREST</th>\n",
              "      <th>PD_CD</th>\n",
              "      <th>PD_DESC</th>\n",
              "      <th>KY_CD</th>\n",
              "      <th>OFNS_DESC</th>\n",
              "      <th>LAW_CODE</th>\n",
              "      <th>LAW_CAT_CD</th>\n",
              "      <th>BOROUGH</th>\n",
              "      <th>ARREST_PRECINCT</th>\n",
              "      <th>JURISDICTION_CODE</th>\n",
              "      <th>AGE_GROUP</th>\n",
              "      <th>GENDER</th>\n",
              "    </tr>\n",
              "    <tr>\n",
              "      <th>ARREST_KEY</th>\n",
              "      <th></th>\n",
              "      <th></th>\n",
              "      <th></th>\n",
              "      <th></th>\n",
              "      <th></th>\n",
              "      <th></th>\n",
              "      <th></th>\n",
              "      <th></th>\n",
              "      <th></th>\n",
              "      <th></th>\n",
              "      <th></th>\n",
              "      <th></th>\n",
              "    </tr>\n",
              "  </thead>\n",
              "  <tbody>\n",
              "    <tr>\n",
              "      <th>234233843</th>\n",
              "      <td>2021-09-29</td>\n",
              "      <td>105.0</td>\n",
              "      <td>STRANGULATION 1ST</td>\n",
              "      <td>106.0</td>\n",
              "      <td>FELONY ASSAULT</td>\n",
              "      <td>PL 1211200</td>\n",
              "      <td>F</td>\n",
              "      <td>Bronx</td>\n",
              "      <td>42</td>\n",
              "      <td>0</td>\n",
              "      <td>3</td>\n",
              "      <td>1</td>\n",
              "    </tr>\n",
              "    <tr>\n",
              "      <th>234129823</th>\n",
              "      <td>2021-09-27</td>\n",
              "      <td>157.0</td>\n",
              "      <td>RAPE 1</td>\n",
              "      <td>104.0</td>\n",
              "      <td>RAPE</td>\n",
              "      <td>PL 1303501</td>\n",
              "      <td>F</td>\n",
              "      <td>Brooklyn</td>\n",
              "      <td>77</td>\n",
              "      <td>0</td>\n",
              "      <td>3</td>\n",
              "      <td>1</td>\n",
              "    </tr>\n",
              "  </tbody>\n",
              "</table>\n",
              "</div>\n",
              "      <button class=\"colab-df-convert\" onclick=\"convertToInteractive('df-57446e41-34cb-46c9-a622-d710342390c1')\"\n",
              "              title=\"Convert this dataframe to an interactive table.\"\n",
              "              style=\"display:none;\">\n",
              "        \n",
              "  <svg xmlns=\"http://www.w3.org/2000/svg\" height=\"24px\"viewBox=\"0 0 24 24\"\n",
              "       width=\"24px\">\n",
              "    <path d=\"M0 0h24v24H0V0z\" fill=\"none\"/>\n",
              "    <path d=\"M18.56 5.44l.94 2.06.94-2.06 2.06-.94-2.06-.94-.94-2.06-.94 2.06-2.06.94zm-11 1L8.5 8.5l.94-2.06 2.06-.94-2.06-.94L8.5 2.5l-.94 2.06-2.06.94zm10 10l.94 2.06.94-2.06 2.06-.94-2.06-.94-.94-2.06-.94 2.06-2.06.94z\"/><path d=\"M17.41 7.96l-1.37-1.37c-.4-.4-.92-.59-1.43-.59-.52 0-1.04.2-1.43.59L10.3 9.45l-7.72 7.72c-.78.78-.78 2.05 0 2.83L4 21.41c.39.39.9.59 1.41.59.51 0 1.02-.2 1.41-.59l7.78-7.78 2.81-2.81c.8-.78.8-2.07 0-2.86zM5.41 20L4 18.59l7.72-7.72 1.47 1.35L5.41 20z\"/>\n",
              "  </svg>\n",
              "      </button>\n",
              "      \n",
              "  <style>\n",
              "    .colab-df-container {\n",
              "      display:flex;\n",
              "      flex-wrap:wrap;\n",
              "      gap: 12px;\n",
              "    }\n",
              "\n",
              "    .colab-df-convert {\n",
              "      background-color: #E8F0FE;\n",
              "      border: none;\n",
              "      border-radius: 50%;\n",
              "      cursor: pointer;\n",
              "      display: none;\n",
              "      fill: #1967D2;\n",
              "      height: 32px;\n",
              "      padding: 0 0 0 0;\n",
              "      width: 32px;\n",
              "    }\n",
              "\n",
              "    .colab-df-convert:hover {\n",
              "      background-color: #E2EBFA;\n",
              "      box-shadow: 0px 1px 2px rgba(60, 64, 67, 0.3), 0px 1px 3px 1px rgba(60, 64, 67, 0.15);\n",
              "      fill: #174EA6;\n",
              "    }\n",
              "\n",
              "    [theme=dark] .colab-df-convert {\n",
              "      background-color: #3B4455;\n",
              "      fill: #D2E3FC;\n",
              "    }\n",
              "\n",
              "    [theme=dark] .colab-df-convert:hover {\n",
              "      background-color: #434B5C;\n",
              "      box-shadow: 0px 1px 3px 1px rgba(0, 0, 0, 0.15);\n",
              "      filter: drop-shadow(0px 1px 2px rgba(0, 0, 0, 0.3));\n",
              "      fill: #FFFFFF;\n",
              "    }\n",
              "  </style>\n",
              "\n",
              "      <script>\n",
              "        const buttonEl =\n",
              "          document.querySelector('#df-57446e41-34cb-46c9-a622-d710342390c1 button.colab-df-convert');\n",
              "        buttonEl.style.display =\n",
              "          google.colab.kernel.accessAllowed ? 'block' : 'none';\n",
              "\n",
              "        async function convertToInteractive(key) {\n",
              "          const element = document.querySelector('#df-57446e41-34cb-46c9-a622-d710342390c1');\n",
              "          const dataTable =\n",
              "            await google.colab.kernel.invokeFunction('convertToInteractive',\n",
              "                                                     [key], {});\n",
              "          if (!dataTable) return;\n",
              "\n",
              "          const docLinkHtml = 'Like what you see? Visit the ' +\n",
              "            '<a target=\"_blank\" href=https://colab.research.google.com/notebooks/data_table.ipynb>data table notebook</a>'\n",
              "            + ' to learn more about interactive tables.';\n",
              "          element.innerHTML = '';\n",
              "          dataTable['output_type'] = 'display_data';\n",
              "          await google.colab.output.renderOutput(dataTable, element);\n",
              "          const docLink = document.createElement('div');\n",
              "          docLink.innerHTML = docLinkHtml;\n",
              "          element.appendChild(docLink);\n",
              "        }\n",
              "      </script>\n",
              "    </div>\n",
              "  </div>\n",
              "  "
            ],
            "text/plain": [
              "           DATE_OF_ARREST  \\\n",
              "ARREST_KEY                  \n",
              "234233843      2021-09-29   \n",
              "234129823      2021-09-27   \n",
              "\n",
              "            PD_CD  \\\n",
              "ARREST_KEY          \n",
              "234233843   105.0   \n",
              "234129823   157.0   \n",
              "\n",
              "                      PD_DESC  \\\n",
              "ARREST_KEY                      \n",
              "234233843   STRANGULATION 1ST   \n",
              "234129823              RAPE 1   \n",
              "\n",
              "            KY_CD  \\\n",
              "ARREST_KEY          \n",
              "234233843   106.0   \n",
              "234129823   104.0   \n",
              "\n",
              "                 OFNS_DESC  \\\n",
              "ARREST_KEY                   \n",
              "234233843   FELONY ASSAULT   \n",
              "234129823             RAPE   \n",
              "\n",
              "              LAW_CODE  \\\n",
              "ARREST_KEY               \n",
              "234233843   PL 1211200   \n",
              "234129823   PL 1303501   \n",
              "\n",
              "           LAW_CAT_CD  \\\n",
              "ARREST_KEY              \n",
              "234233843           F   \n",
              "234129823           F   \n",
              "\n",
              "             BOROUGH  \\\n",
              "ARREST_KEY             \n",
              "234233843      Bronx   \n",
              "234129823   Brooklyn   \n",
              "\n",
              "            ARREST_PRECINCT  \\\n",
              "ARREST_KEY                    \n",
              "234233843                42   \n",
              "234129823                77   \n",
              "\n",
              "            JURISDICTION_CODE  \\\n",
              "ARREST_KEY                      \n",
              "234233843                   0   \n",
              "234129823                   0   \n",
              "\n",
              "            AGE_GROUP  \\\n",
              "ARREST_KEY              \n",
              "234233843           3   \n",
              "234129823           3   \n",
              "\n",
              "            GENDER  \n",
              "ARREST_KEY          \n",
              "234233843        1  \n",
              "234129823        1  "
            ]
          },
          "metadata": {},
          "execution_count": 999
        }
      ]
    },
    {
      "cell_type": "code",
      "source": [
        "df.info()"
      ],
      "metadata": {
        "colab": {
          "base_uri": "https://localhost:8080/"
        },
        "id": "Vyr83hkFOMCg",
        "outputId": "292f9bc6-8505-4255-c3aa-fac663ce965e"
      },
      "execution_count": null,
      "outputs": [
        {
          "output_type": "stream",
          "name": "stdout",
          "text": [
            "<class 'pandas.core.frame.DataFrame'>\n",
            "Int64Index: 115299 entries, 234233843 to 222535613\n",
            "Data columns (total 12 columns):\n",
            " #   Column             Non-Null Count   Dtype         \n",
            "---  ------             --------------   -----         \n",
            " 0   DATE_OF_ARREST     115299 non-null  datetime64[ns]\n",
            " 1   PD_CD              115278 non-null  float64       \n",
            " 2   PD_DESC            115238 non-null  object        \n",
            " 3   KY_CD              115238 non-null  float64       \n",
            " 4   OFNS_DESC          115238 non-null  object        \n",
            " 5   LAW_CODE           115299 non-null  object        \n",
            " 6   LAW_CAT_CD         114221 non-null  object        \n",
            " 7   BOROUGH            115299 non-null  object        \n",
            " 8   ARREST_PRECINCT    115299 non-null  int64         \n",
            " 9   JURISDICTION_CODE  115299 non-null  int64         \n",
            " 10  AGE_GROUP          115299 non-null  int64         \n",
            " 11  GENDER             115299 non-null  int64         \n",
            "dtypes: datetime64[ns](1), float64(2), int64(4), object(5)\n",
            "memory usage: 11.4+ MB\n"
          ]
        }
      ]
    },
    {
      "cell_type": "code",
      "source": [
        "# Remove other 3 other non-contiguous columns \n",
        "df.drop(df.columns[[2,4,5]], axis = 1, inplace = True)\n",
        "df.head(2)"
      ],
      "metadata": {
        "colab": {
          "base_uri": "https://localhost:8080/",
          "height": 143
        },
        "id": "yKx_GJoiJpCI",
        "outputId": "00b7edb6-2b31-4902-f70b-9cae74db8263"
      },
      "execution_count": null,
      "outputs": [
        {
          "output_type": "execute_result",
          "data": {
            "text/html": [
              "\n",
              "  <div id=\"df-8f828bf0-5725-44bc-9239-2a80282973b1\">\n",
              "    <div class=\"colab-df-container\">\n",
              "      <div>\n",
              "<style scoped>\n",
              "    .dataframe tbody tr th:only-of-type {\n",
              "        vertical-align: middle;\n",
              "    }\n",
              "\n",
              "    .dataframe tbody tr th {\n",
              "        vertical-align: top;\n",
              "    }\n",
              "\n",
              "    .dataframe thead th {\n",
              "        text-align: right;\n",
              "    }\n",
              "</style>\n",
              "<table border=\"1\" class=\"dataframe\">\n",
              "  <thead>\n",
              "    <tr style=\"text-align: right;\">\n",
              "      <th></th>\n",
              "      <th>DATE_OF_ARREST</th>\n",
              "      <th>PD_CD</th>\n",
              "      <th>KY_CD</th>\n",
              "      <th>LAW_CAT_CD</th>\n",
              "      <th>BOROUGH</th>\n",
              "      <th>ARREST_PRECINCT</th>\n",
              "      <th>JURISDICTION_CODE</th>\n",
              "      <th>AGE_GROUP</th>\n",
              "      <th>GENDER</th>\n",
              "    </tr>\n",
              "    <tr>\n",
              "      <th>ARREST_KEY</th>\n",
              "      <th></th>\n",
              "      <th></th>\n",
              "      <th></th>\n",
              "      <th></th>\n",
              "      <th></th>\n",
              "      <th></th>\n",
              "      <th></th>\n",
              "      <th></th>\n",
              "      <th></th>\n",
              "    </tr>\n",
              "  </thead>\n",
              "  <tbody>\n",
              "    <tr>\n",
              "      <th>234233843</th>\n",
              "      <td>2021-09-29</td>\n",
              "      <td>105.0</td>\n",
              "      <td>106.0</td>\n",
              "      <td>F</td>\n",
              "      <td>Bronx</td>\n",
              "      <td>42</td>\n",
              "      <td>0</td>\n",
              "      <td>3</td>\n",
              "      <td>1</td>\n",
              "    </tr>\n",
              "    <tr>\n",
              "      <th>234129823</th>\n",
              "      <td>2021-09-27</td>\n",
              "      <td>157.0</td>\n",
              "      <td>104.0</td>\n",
              "      <td>F</td>\n",
              "      <td>Brooklyn</td>\n",
              "      <td>77</td>\n",
              "      <td>0</td>\n",
              "      <td>3</td>\n",
              "      <td>1</td>\n",
              "    </tr>\n",
              "  </tbody>\n",
              "</table>\n",
              "</div>\n",
              "      <button class=\"colab-df-convert\" onclick=\"convertToInteractive('df-8f828bf0-5725-44bc-9239-2a80282973b1')\"\n",
              "              title=\"Convert this dataframe to an interactive table.\"\n",
              "              style=\"display:none;\">\n",
              "        \n",
              "  <svg xmlns=\"http://www.w3.org/2000/svg\" height=\"24px\"viewBox=\"0 0 24 24\"\n",
              "       width=\"24px\">\n",
              "    <path d=\"M0 0h24v24H0V0z\" fill=\"none\"/>\n",
              "    <path d=\"M18.56 5.44l.94 2.06.94-2.06 2.06-.94-2.06-.94-.94-2.06-.94 2.06-2.06.94zm-11 1L8.5 8.5l.94-2.06 2.06-.94-2.06-.94L8.5 2.5l-.94 2.06-2.06.94zm10 10l.94 2.06.94-2.06 2.06-.94-2.06-.94-.94-2.06-.94 2.06-2.06.94z\"/><path d=\"M17.41 7.96l-1.37-1.37c-.4-.4-.92-.59-1.43-.59-.52 0-1.04.2-1.43.59L10.3 9.45l-7.72 7.72c-.78.78-.78 2.05 0 2.83L4 21.41c.39.39.9.59 1.41.59.51 0 1.02-.2 1.41-.59l7.78-7.78 2.81-2.81c.8-.78.8-2.07 0-2.86zM5.41 20L4 18.59l7.72-7.72 1.47 1.35L5.41 20z\"/>\n",
              "  </svg>\n",
              "      </button>\n",
              "      \n",
              "  <style>\n",
              "    .colab-df-container {\n",
              "      display:flex;\n",
              "      flex-wrap:wrap;\n",
              "      gap: 12px;\n",
              "    }\n",
              "\n",
              "    .colab-df-convert {\n",
              "      background-color: #E8F0FE;\n",
              "      border: none;\n",
              "      border-radius: 50%;\n",
              "      cursor: pointer;\n",
              "      display: none;\n",
              "      fill: #1967D2;\n",
              "      height: 32px;\n",
              "      padding: 0 0 0 0;\n",
              "      width: 32px;\n",
              "    }\n",
              "\n",
              "    .colab-df-convert:hover {\n",
              "      background-color: #E2EBFA;\n",
              "      box-shadow: 0px 1px 2px rgba(60, 64, 67, 0.3), 0px 1px 3px 1px rgba(60, 64, 67, 0.15);\n",
              "      fill: #174EA6;\n",
              "    }\n",
              "\n",
              "    [theme=dark] .colab-df-convert {\n",
              "      background-color: #3B4455;\n",
              "      fill: #D2E3FC;\n",
              "    }\n",
              "\n",
              "    [theme=dark] .colab-df-convert:hover {\n",
              "      background-color: #434B5C;\n",
              "      box-shadow: 0px 1px 3px 1px rgba(0, 0, 0, 0.15);\n",
              "      filter: drop-shadow(0px 1px 2px rgba(0, 0, 0, 0.3));\n",
              "      fill: #FFFFFF;\n",
              "    }\n",
              "  </style>\n",
              "\n",
              "      <script>\n",
              "        const buttonEl =\n",
              "          document.querySelector('#df-8f828bf0-5725-44bc-9239-2a80282973b1 button.colab-df-convert');\n",
              "        buttonEl.style.display =\n",
              "          google.colab.kernel.accessAllowed ? 'block' : 'none';\n",
              "\n",
              "        async function convertToInteractive(key) {\n",
              "          const element = document.querySelector('#df-8f828bf0-5725-44bc-9239-2a80282973b1');\n",
              "          const dataTable =\n",
              "            await google.colab.kernel.invokeFunction('convertToInteractive',\n",
              "                                                     [key], {});\n",
              "          if (!dataTable) return;\n",
              "\n",
              "          const docLinkHtml = 'Like what you see? Visit the ' +\n",
              "            '<a target=\"_blank\" href=https://colab.research.google.com/notebooks/data_table.ipynb>data table notebook</a>'\n",
              "            + ' to learn more about interactive tables.';\n",
              "          element.innerHTML = '';\n",
              "          dataTable['output_type'] = 'display_data';\n",
              "          await google.colab.output.renderOutput(dataTable, element);\n",
              "          const docLink = document.createElement('div');\n",
              "          docLink.innerHTML = docLinkHtml;\n",
              "          element.appendChild(docLink);\n",
              "        }\n",
              "      </script>\n",
              "    </div>\n",
              "  </div>\n",
              "  "
            ],
            "text/plain": [
              "           DATE_OF_ARREST  \\\n",
              "ARREST_KEY                  \n",
              "234233843      2021-09-29   \n",
              "234129823      2021-09-27   \n",
              "\n",
              "            PD_CD  \\\n",
              "ARREST_KEY          \n",
              "234233843   105.0   \n",
              "234129823   157.0   \n",
              "\n",
              "            KY_CD  \\\n",
              "ARREST_KEY          \n",
              "234233843   106.0   \n",
              "234129823   104.0   \n",
              "\n",
              "           LAW_CAT_CD  \\\n",
              "ARREST_KEY              \n",
              "234233843           F   \n",
              "234129823           F   \n",
              "\n",
              "             BOROUGH  \\\n",
              "ARREST_KEY             \n",
              "234233843      Bronx   \n",
              "234129823   Brooklyn   \n",
              "\n",
              "            ARREST_PRECINCT  \\\n",
              "ARREST_KEY                    \n",
              "234233843                42   \n",
              "234129823                77   \n",
              "\n",
              "            JURISDICTION_CODE  \\\n",
              "ARREST_KEY                      \n",
              "234233843                   0   \n",
              "234129823                   0   \n",
              "\n",
              "            AGE_GROUP  \\\n",
              "ARREST_KEY              \n",
              "234233843           3   \n",
              "234129823           3   \n",
              "\n",
              "            GENDER  \n",
              "ARREST_KEY          \n",
              "234233843        1  \n",
              "234129823        1  "
            ]
          },
          "metadata": {},
          "execution_count": 1001
        }
      ]
    },
    {
      "cell_type": "code",
      "source": [
        "#Remove rows containing empty cells\n",
        "df.dropna(inplace=True)"
      ],
      "metadata": {
        "id": "C1mxAi2ERN0Y"
      },
      "execution_count": null,
      "outputs": []
    },
    {
      "cell_type": "code",
      "source": [
        "#Shows result of the dropna - no more missing values\n",
        "df.isnull().sum()"
      ],
      "metadata": {
        "colab": {
          "base_uri": "https://localhost:8080/"
        },
        "id": "FpU3d9sibnxK",
        "outputId": "9831f0d0-3608-4b91-9b10-cf98875e571f"
      },
      "execution_count": null,
      "outputs": [
        {
          "output_type": "execute_result",
          "data": {
            "text/plain": [
              "DATE_OF_ARREST       0\n",
              "PD_CD                0\n",
              "KY_CD                0\n",
              "LAW_CAT_CD           0\n",
              "BOROUGH              0\n",
              "ARREST_PRECINCT      0\n",
              "JURISDICTION_CODE    0\n",
              "AGE_GROUP            0\n",
              "GENDER               0\n",
              "dtype: int64"
            ]
          },
          "metadata": {},
          "execution_count": 1003
        }
      ]
    },
    {
      "cell_type": "code",
      "source": [
        "#Some descriptive statistics\n",
        "df.describe()"
      ],
      "metadata": {
        "colab": {
          "base_uri": "https://localhost:8080/",
          "height": 300
        },
        "id": "Qjb72G0KdsLG",
        "outputId": "f76cf2e4-0dc5-473f-aea6-a8ffe56ce87c"
      },
      "execution_count": null,
      "outputs": [
        {
          "output_type": "execute_result",
          "data": {
            "text/html": [
              "\n",
              "  <div id=\"df-d57803aa-3dc2-41a9-b360-666b96ee04a3\">\n",
              "    <div class=\"colab-df-container\">\n",
              "      <div>\n",
              "<style scoped>\n",
              "    .dataframe tbody tr th:only-of-type {\n",
              "        vertical-align: middle;\n",
              "    }\n",
              "\n",
              "    .dataframe tbody tr th {\n",
              "        vertical-align: top;\n",
              "    }\n",
              "\n",
              "    .dataframe thead th {\n",
              "        text-align: right;\n",
              "    }\n",
              "</style>\n",
              "<table border=\"1\" class=\"dataframe\">\n",
              "  <thead>\n",
              "    <tr style=\"text-align: right;\">\n",
              "      <th></th>\n",
              "      <th>PD_CD</th>\n",
              "      <th>KY_CD</th>\n",
              "      <th>ARREST_PRECINCT</th>\n",
              "      <th>JURISDICTION_CODE</th>\n",
              "      <th>AGE_GROUP</th>\n",
              "      <th>GENDER</th>\n",
              "    </tr>\n",
              "  </thead>\n",
              "  <tbody>\n",
              "    <tr>\n",
              "      <th>count</th>\n",
              "      <td>114160.000000</td>\n",
              "      <td>114160.000000</td>\n",
              "      <td>114160.000000</td>\n",
              "      <td>114160.000000</td>\n",
              "      <td>114160.000000</td>\n",
              "      <td>114160.000000</td>\n",
              "    </tr>\n",
              "    <tr>\n",
              "      <th>mean</th>\n",
              "      <td>413.302383</td>\n",
              "      <td>237.998537</td>\n",
              "      <td>63.301428</td>\n",
              "      <td>0.932586</td>\n",
              "      <td>2.973143</td>\n",
              "      <td>1.169359</td>\n",
              "    </tr>\n",
              "    <tr>\n",
              "      <th>std</th>\n",
              "      <td>276.035128</td>\n",
              "      <td>132.724948</td>\n",
              "      <td>35.034807</td>\n",
              "      <td>8.023085</td>\n",
              "      <td>0.749668</td>\n",
              "      <td>0.375070</td>\n",
              "    </tr>\n",
              "    <tr>\n",
              "      <th>min</th>\n",
              "      <td>100.000000</td>\n",
              "      <td>101.000000</td>\n",
              "      <td>1.000000</td>\n",
              "      <td>0.000000</td>\n",
              "      <td>1.000000</td>\n",
              "      <td>1.000000</td>\n",
              "    </tr>\n",
              "    <tr>\n",
              "      <th>25%</th>\n",
              "      <td>113.000000</td>\n",
              "      <td>111.000000</td>\n",
              "      <td>40.000000</td>\n",
              "      <td>0.000000</td>\n",
              "      <td>3.000000</td>\n",
              "      <td>1.000000</td>\n",
              "    </tr>\n",
              "    <tr>\n",
              "      <th>50%</th>\n",
              "      <td>339.000000</td>\n",
              "      <td>235.000000</td>\n",
              "      <td>62.000000</td>\n",
              "      <td>0.000000</td>\n",
              "      <td>3.000000</td>\n",
              "      <td>1.000000</td>\n",
              "    </tr>\n",
              "    <tr>\n",
              "      <th>75%</th>\n",
              "      <td>705.000000</td>\n",
              "      <td>344.000000</td>\n",
              "      <td>101.000000</td>\n",
              "      <td>0.000000</td>\n",
              "      <td>3.000000</td>\n",
              "      <td>1.000000</td>\n",
              "    </tr>\n",
              "    <tr>\n",
              "      <th>max</th>\n",
              "      <td>997.000000</td>\n",
              "      <td>882.000000</td>\n",
              "      <td>123.000000</td>\n",
              "      <td>97.000000</td>\n",
              "      <td>5.000000</td>\n",
              "      <td>2.000000</td>\n",
              "    </tr>\n",
              "  </tbody>\n",
              "</table>\n",
              "</div>\n",
              "      <button class=\"colab-df-convert\" onclick=\"convertToInteractive('df-d57803aa-3dc2-41a9-b360-666b96ee04a3')\"\n",
              "              title=\"Convert this dataframe to an interactive table.\"\n",
              "              style=\"display:none;\">\n",
              "        \n",
              "  <svg xmlns=\"http://www.w3.org/2000/svg\" height=\"24px\"viewBox=\"0 0 24 24\"\n",
              "       width=\"24px\">\n",
              "    <path d=\"M0 0h24v24H0V0z\" fill=\"none\"/>\n",
              "    <path d=\"M18.56 5.44l.94 2.06.94-2.06 2.06-.94-2.06-.94-.94-2.06-.94 2.06-2.06.94zm-11 1L8.5 8.5l.94-2.06 2.06-.94-2.06-.94L8.5 2.5l-.94 2.06-2.06.94zm10 10l.94 2.06.94-2.06 2.06-.94-2.06-.94-.94-2.06-.94 2.06-2.06.94z\"/><path d=\"M17.41 7.96l-1.37-1.37c-.4-.4-.92-.59-1.43-.59-.52 0-1.04.2-1.43.59L10.3 9.45l-7.72 7.72c-.78.78-.78 2.05 0 2.83L4 21.41c.39.39.9.59 1.41.59.51 0 1.02-.2 1.41-.59l7.78-7.78 2.81-2.81c.8-.78.8-2.07 0-2.86zM5.41 20L4 18.59l7.72-7.72 1.47 1.35L5.41 20z\"/>\n",
              "  </svg>\n",
              "      </button>\n",
              "      \n",
              "  <style>\n",
              "    .colab-df-container {\n",
              "      display:flex;\n",
              "      flex-wrap:wrap;\n",
              "      gap: 12px;\n",
              "    }\n",
              "\n",
              "    .colab-df-convert {\n",
              "      background-color: #E8F0FE;\n",
              "      border: none;\n",
              "      border-radius: 50%;\n",
              "      cursor: pointer;\n",
              "      display: none;\n",
              "      fill: #1967D2;\n",
              "      height: 32px;\n",
              "      padding: 0 0 0 0;\n",
              "      width: 32px;\n",
              "    }\n",
              "\n",
              "    .colab-df-convert:hover {\n",
              "      background-color: #E2EBFA;\n",
              "      box-shadow: 0px 1px 2px rgba(60, 64, 67, 0.3), 0px 1px 3px 1px rgba(60, 64, 67, 0.15);\n",
              "      fill: #174EA6;\n",
              "    }\n",
              "\n",
              "    [theme=dark] .colab-df-convert {\n",
              "      background-color: #3B4455;\n",
              "      fill: #D2E3FC;\n",
              "    }\n",
              "\n",
              "    [theme=dark] .colab-df-convert:hover {\n",
              "      background-color: #434B5C;\n",
              "      box-shadow: 0px 1px 3px 1px rgba(0, 0, 0, 0.15);\n",
              "      filter: drop-shadow(0px 1px 2px rgba(0, 0, 0, 0.3));\n",
              "      fill: #FFFFFF;\n",
              "    }\n",
              "  </style>\n",
              "\n",
              "      <script>\n",
              "        const buttonEl =\n",
              "          document.querySelector('#df-d57803aa-3dc2-41a9-b360-666b96ee04a3 button.colab-df-convert');\n",
              "        buttonEl.style.display =\n",
              "          google.colab.kernel.accessAllowed ? 'block' : 'none';\n",
              "\n",
              "        async function convertToInteractive(key) {\n",
              "          const element = document.querySelector('#df-d57803aa-3dc2-41a9-b360-666b96ee04a3');\n",
              "          const dataTable =\n",
              "            await google.colab.kernel.invokeFunction('convertToInteractive',\n",
              "                                                     [key], {});\n",
              "          if (!dataTable) return;\n",
              "\n",
              "          const docLinkHtml = 'Like what you see? Visit the ' +\n",
              "            '<a target=\"_blank\" href=https://colab.research.google.com/notebooks/data_table.ipynb>data table notebook</a>'\n",
              "            + ' to learn more about interactive tables.';\n",
              "          element.innerHTML = '';\n",
              "          dataTable['output_type'] = 'display_data';\n",
              "          await google.colab.output.renderOutput(dataTable, element);\n",
              "          const docLink = document.createElement('div');\n",
              "          docLink.innerHTML = docLinkHtml;\n",
              "          element.appendChild(docLink);\n",
              "        }\n",
              "      </script>\n",
              "    </div>\n",
              "  </div>\n",
              "  "
            ],
            "text/plain": [
              "               PD_CD  \\\n",
              "count  114160.000000   \n",
              "mean      413.302383   \n",
              "std       276.035128   \n",
              "min       100.000000   \n",
              "25%       113.000000   \n",
              "50%       339.000000   \n",
              "75%       705.000000   \n",
              "max       997.000000   \n",
              "\n",
              "               KY_CD  \\\n",
              "count  114160.000000   \n",
              "mean      237.998537   \n",
              "std       132.724948   \n",
              "min       101.000000   \n",
              "25%       111.000000   \n",
              "50%       235.000000   \n",
              "75%       344.000000   \n",
              "max       882.000000   \n",
              "\n",
              "       ARREST_PRECINCT  \\\n",
              "count    114160.000000   \n",
              "mean         63.301428   \n",
              "std          35.034807   \n",
              "min           1.000000   \n",
              "25%          40.000000   \n",
              "50%          62.000000   \n",
              "75%         101.000000   \n",
              "max         123.000000   \n",
              "\n",
              "       JURISDICTION_CODE  \\\n",
              "count      114160.000000   \n",
              "mean            0.932586   \n",
              "std             8.023085   \n",
              "min             0.000000   \n",
              "25%             0.000000   \n",
              "50%             0.000000   \n",
              "75%             0.000000   \n",
              "max            97.000000   \n",
              "\n",
              "           AGE_GROUP  \\\n",
              "count  114160.000000   \n",
              "mean        2.973143   \n",
              "std         0.749668   \n",
              "min         1.000000   \n",
              "25%         3.000000   \n",
              "50%         3.000000   \n",
              "75%         3.000000   \n",
              "max         5.000000   \n",
              "\n",
              "              GENDER  \n",
              "count  114160.000000  \n",
              "mean        1.169359  \n",
              "std         0.375070  \n",
              "min         1.000000  \n",
              "25%         1.000000  \n",
              "50%         1.000000  \n",
              "75%         1.000000  \n",
              "max         2.000000  "
            ]
          },
          "metadata": {},
          "execution_count": 1004
        }
      ]
    },
    {
      "cell_type": "markdown",
      "source": [
        "# **Step 4. **\n",
        "Data Visualization & Insight"
      ],
      "metadata": {
        "id": "MUnpLuCvjHuh"
      }
    },
    {
      "cell_type": "markdown",
      "source": [
        "# Top Borough (BROOKLYN)\n",
        "\n",
        " - Borough with highest number of arrests"
      ],
      "metadata": {
        "id": "_fslaYnsP3WS"
      }
    },
    {
      "cell_type": "code",
      "source": [
        "#Shows unique count of arrests made by Borough in the dataset\n",
        "df[[\"BOROUGH\"]].value_counts()"
      ],
      "metadata": {
        "id": "PL15L7iZ8eE8",
        "colab": {
          "base_uri": "https://localhost:8080/"
        },
        "outputId": "9a05110f-43f9-41e8-cd54-a47e555de30c"
      },
      "execution_count": null,
      "outputs": [
        {
          "output_type": "execute_result",
          "data": {
            "text/plain": [
              "BOROUGH      \n",
              "Brooklyn         30819\n",
              "Manhattan        28447\n",
              "Bronx            25057\n",
              "Queens           24467\n",
              "Staten Island     5370\n",
              "dtype: int64"
            ]
          },
          "metadata": {},
          "execution_count": 968
        }
      ]
    },
    {
      "cell_type": "code",
      "source": [
        "#Creating a series of the Borough data \n",
        "srBoroughs = pd.Series([31004, 28948, 25312, 24654, 5381])\n",
        "NameBorough = ['Brooklyn', 'Manhattan', 'Bronx', 'Queens', 'Staten Island']\n",
        "# set the index\n",
        "srBoroughs.index = NameBorough"
      ],
      "metadata": {
        "id": "Qp7ythb5n3kp"
      },
      "execution_count": null,
      "outputs": []
    },
    {
      "cell_type": "code",
      "source": [
        "# Draw the bar chart showing number of Arrests by Borough\n",
        "srBoroughs.plot.bar(rot=15, title=\"Arrests by Borough\", figsize=[12,5]);\n",
        "plot.show(block=True);"
      ],
      "metadata": {
        "colab": {
          "base_uri": "https://localhost:8080/",
          "height": 355
        },
        "id": "m2Dzlij7sxuW",
        "outputId": "a2814022-cd3c-4860-a68a-16169a01bc51"
      },
      "execution_count": null,
      "outputs": [
        {
          "output_type": "display_data",
          "data": {
            "image/png": "[encoded data removed]",
            "text/plain": [
              "<Figure size 864x360 with 1 Axes>"
            ]
          },
          "metadata": {
            "needs_background": "light"
          }
        }
      ]
    },
    {
      "cell_type": "code",
      "source": [
        "srBoroughs.plot(title=\"Arrests by Borough\",figsize=[10,5])\n",
        "plot.show()"
      ],
      "metadata": {
        "colab": {
          "base_uri": "https://localhost:8080/",
          "height": 338
        },
        "id": "4JTpY-fGsWDp",
        "outputId": "384ff389-2178-4540-fdca-e1893a487ca5"
      },
      "execution_count": null,
      "outputs": [
        {
          "output_type": "display_data",
          "data": {
            "image/png": "[encoded data removed]",
            "text/plain": [
              "<Figure size 720x360 with 1 Axes>"
            ]
          },
          "metadata": {
            "needs_background": "light"
          }
        }
      ]
    },
    {
      "cell_type": "markdown",
      "source": [
        "# Top Precinct - highest number of arrests\n",
        "1. Precinct 14 - Manhattan - 3,291 arrests\n",
        "2. Precinct 75 - Brooklyn - 3,170 arrests\n",
        "3. Precinct 40 - Bronx - 3,022 arrests"
      ],
      "metadata": {
        "id": "GrobD5o6krP0"
      }
    },
    {
      "cell_type": "code",
      "source": [
        "#Shows Arrest by precinct- a wide spread for Brooklyn with largest #of precincts\n",
        "#very concentrated high arrests for Bronx with only 12 precincts (40-52) \n",
        "df.hist(column='ARREST_PRECINCT', bins=30, figsize=[12,5],color='#1e90ff')\n",
        "plot.xlabel('Precinct code(M:1-34,  BX:40-52,  BK: 60-94,  Q:100-115,  SI:115+)')\n",
        "plot.ylabel('Arrest  Frequency')"
      ],
      "metadata": {
        "colab": {
          "base_uri": "https://localhost:8080/",
          "height": 371
        },
        "id": "UhZMfS1QjQDC",
        "outputId": "9912235c-5ef1-4e79-f60c-4d0493a21044"
      },
      "execution_count": null,
      "outputs": [
        {
          "output_type": "execute_result",
          "data": {
            "text/plain": [
              "Text(0, 0.5, 'Arrest  Frequency')"
            ]
          },
          "metadata": {},
          "execution_count": 973
        },
        {
          "output_type": "display_data",
          "data": {
            "image/png": "[encoded data removed]",
            "text/plain": [
              "<Figure size 864x360 with 1 Axes>"
            ]
          },
          "metadata": {
            "needs_background": "light"
          }
        }
      ]
    },
    {
      "cell_type": "markdown",
      "source": [
        "# Top Jurisdiction code (0 - 2)\n",
        "- 0.Patrol  = code 0 ~(91% of arrests)\n",
        "- 1.Transit = code 1 ~(3% of the arrests)\n",
        "- 2.Housing = code 2 ~(2.7% of the arrests)"
      ],
      "metadata": {
        "id": "1x_jI-NH8si8"
      }
    },
    {
      "cell_type": "code",
      "source": [
        "#Create series with Jurisdiction values\n",
        "srJuris = pd.Series([105588, 3803, 3162, 2746])\n",
        "JurisCode = ['0.Patrol','1.Transit','2.Housing','Others-nonNYPD']\n",
        "# set the index\n",
        "srJuris.index = JurisCode\n",
        "# Draw the bar chart showing number of Arrests by Borough\n",
        "explode = (0.1, 0, 0, 0)\n",
        "srJuris.plot.pie(figsize=[14,8],explode=explode, labels=JurisCode, autopct='%1.1f%%', title=\"Arrests by Jurisdiction\",shadow=True);\n",
        "plot.show();"
      ],
      "metadata": {
        "colab": {
          "base_uri": "https://localhost:8080/",
          "height": 492
        },
        "id": "pwxZt4sO-6Ph",
        "outputId": "67a6106e-e610-4a5c-818c-a302ed088c89"
      },
      "execution_count": null,
      "outputs": [
        {
          "output_type": "display_data",
          "data": {
            "image/png": "[encoded data removed]",
            "text/plain": [
              "<Figure size 1008x576 with 1 Axes>"
            ]
          },
          "metadata": {}
        }
      ]
    },
    {
      "cell_type": "code",
      "source": [
        "#Shows list of Jurisdiction codes\n",
        "df[[\"JURISDICTION_CODE\"]].value_counts(ascending=True).sort_index(ascending=True)"
      ],
      "metadata": {
        "colab": {
          "base_uri": "https://localhost:8080/"
        },
        "id": "WAKmfX65hD6L",
        "outputId": "679d178d-5391-47d4-990f-1ec994298701"
      },
      "execution_count": null,
      "outputs": [
        {
          "output_type": "execute_result",
          "data": {
            "text/plain": [
              "JURISDICTION_CODE\n",
              "0                    104469\n",
              "1                      3160\n",
              "2                      3796\n",
              "3                      1030\n",
              "4                        69\n",
              "6                        10\n",
              "7                        83\n",
              "8                         1\n",
              "9                         1\n",
              "11                      185\n",
              "12                        1\n",
              "13                       10\n",
              "14                       89\n",
              "15                      262\n",
              "16                        2\n",
              "69                        3\n",
              "71                      125\n",
              "72                      189\n",
              "73                      141\n",
              "74                        3\n",
              "76                        1\n",
              "85                        8\n",
              "87                       22\n",
              "88                        8\n",
              "97                      492\n",
              "dtype: int64"
            ]
          },
          "metadata": {},
          "execution_count": 974
        }
      ]
    },
    {
      "cell_type": "markdown",
      "source": [
        "# Top Arrest code - KY = 344  (Assault)"
      ],
      "metadata": {
        "id": "ilxT18Vnrdur"
      }
    },
    {
      "cell_type": "code",
      "source": [
        "#Shows that Arrest code - KY_CD = 344 is the mode, which is equivalent to assault\n",
        "df_KY = df.loc[:,['KY_CD']]\n",
        "df_KY.mode()"
      ],
      "metadata": {
        "colab": {
          "base_uri": "https://localhost:8080/",
          "height": 81
        },
        "id": "JytAiMPzqJPT",
        "outputId": "50a1454f-40d4-4eaf-da02-8b99970afb72"
      },
      "execution_count": null,
      "outputs": [
        {
          "output_type": "execute_result",
          "data": {
            "text/html": [
              "\n",
              "  <div id=\"df-cd099406-81d9-4de4-a31a-4e4385a9b02a\">\n",
              "    <div class=\"colab-df-container\">\n",
              "      <div>\n",
              "<style scoped>\n",
              "    .dataframe tbody tr th:only-of-type {\n",
              "        vertical-align: middle;\n",
              "    }\n",
              "\n",
              "    .dataframe tbody tr th {\n",
              "        vertical-align: top;\n",
              "    }\n",
              "\n",
              "    .dataframe thead th {\n",
              "        text-align: right;\n",
              "    }\n",
              "</style>\n",
              "<table border=\"1\" class=\"dataframe\">\n",
              "  <thead>\n",
              "    <tr style=\"text-align: right;\">\n",
              "      <th></th>\n",
              "      <th>KY_CD</th>\n",
              "    </tr>\n",
              "  </thead>\n",
              "  <tbody>\n",
              "    <tr>\n",
              "      <th>0</th>\n",
              "      <td>344.0</td>\n",
              "    </tr>\n",
              "  </tbody>\n",
              "</table>\n",
              "</div>\n",
              "      <button class=\"colab-df-convert\" onclick=\"convertToInteractive('df-cd099406-81d9-4de4-a31a-4e4385a9b02a')\"\n",
              "              title=\"Convert this dataframe to an interactive table.\"\n",
              "              style=\"display:none;\">\n",
              "        \n",
              "  <svg xmlns=\"http://www.w3.org/2000/svg\" height=\"24px\"viewBox=\"0 0 24 24\"\n",
              "       width=\"24px\">\n",
              "    <path d=\"M0 0h24v24H0V0z\" fill=\"none\"/>\n",
              "    <path d=\"M18.56 5.44l.94 2.06.94-2.06 2.06-.94-2.06-.94-.94-2.06-.94 2.06-2.06.94zm-11 1L8.5 8.5l.94-2.06 2.06-.94-2.06-.94L8.5 2.5l-.94 2.06-2.06.94zm10 10l.94 2.06.94-2.06 2.06-.94-2.06-.94-.94-2.06-.94 2.06-2.06.94z\"/><path d=\"M17.41 7.96l-1.37-1.37c-.4-.4-.92-.59-1.43-.59-.52 0-1.04.2-1.43.59L10.3 9.45l-7.72 7.72c-.78.78-.78 2.05 0 2.83L4 21.41c.39.39.9.59 1.41.59.51 0 1.02-.2 1.41-.59l7.78-7.78 2.81-2.81c.8-.78.8-2.07 0-2.86zM5.41 20L4 18.59l7.72-7.72 1.47 1.35L5.41 20z\"/>\n",
              "  </svg>\n",
              "      </button>\n",
              "      \n",
              "  <style>\n",
              "    .colab-df-container {\n",
              "      display:flex;\n",
              "      flex-wrap:wrap;\n",
              "      gap: 12px;\n",
              "    }\n",
              "\n",
              "    .colab-df-convert {\n",
              "      background-color: #E8F0FE;\n",
              "      border: none;\n",
              "      border-radius: 50%;\n",
              "      cursor: pointer;\n",
              "      display: none;\n",
              "      fill: #1967D2;\n",
              "      height: 32px;\n",
              "      padding: 0 0 0 0;\n",
              "      width: 32px;\n",
              "    }\n",
              "\n",
              "    .colab-df-convert:hover {\n",
              "      background-color: #E2EBFA;\n",
              "      box-shadow: 0px 1px 2px rgba(60, 64, 67, 0.3), 0px 1px 3px 1px rgba(60, 64, 67, 0.15);\n",
              "      fill: #174EA6;\n",
              "    }\n",
              "\n",
              "    [theme=dark] .colab-df-convert {\n",
              "      background-color: #3B4455;\n",
              "      fill: #D2E3FC;\n",
              "    }\n",
              "\n",
              "    [theme=dark] .colab-df-convert:hover {\n",
              "      background-color: #434B5C;\n",
              "      box-shadow: 0px 1px 3px 1px rgba(0, 0, 0, 0.15);\n",
              "      filter: drop-shadow(0px 1px 2px rgba(0, 0, 0, 0.3));\n",
              "      fill: #FFFFFF;\n",
              "    }\n",
              "  </style>\n",
              "\n",
              "      <script>\n",
              "        const buttonEl =\n",
              "          document.querySelector('#df-cd099406-81d9-4de4-a31a-4e4385a9b02a button.colab-df-convert');\n",
              "        buttonEl.style.display =\n",
              "          google.colab.kernel.accessAllowed ? 'block' : 'none';\n",
              "\n",
              "        async function convertToInteractive(key) {\n",
              "          const element = document.querySelector('#df-cd099406-81d9-4de4-a31a-4e4385a9b02a');\n",
              "          const dataTable =\n",
              "            await google.colab.kernel.invokeFunction('convertToInteractive',\n",
              "                                                     [key], {});\n",
              "          if (!dataTable) return;\n",
              "\n",
              "          const docLinkHtml = 'Like what you see? Visit the ' +\n",
              "            '<a target=\"_blank\" href=https://colab.research.google.com/notebooks/data_table.ipynb>data table notebook</a>'\n",
              "            + ' to learn more about interactive tables.';\n",
              "          element.innerHTML = '';\n",
              "          dataTable['output_type'] = 'display_data';\n",
              "          await google.colab.output.renderOutput(dataTable, element);\n",
              "          const docLink = document.createElement('div');\n",
              "          docLink.innerHTML = docLinkHtml;\n",
              "          element.appendChild(docLink);\n",
              "        }\n",
              "      </script>\n",
              "    </div>\n",
              "  </div>\n",
              "  "
            ],
            "text/plain": [
              "   KY_CD\n",
              "0  344.0"
            ]
          },
          "metadata": {},
          "execution_count": 976
        }
      ]
    },
    {
      "cell_type": "code",
      "source": [
        "#Shows the TOP arrest code lies between 340 to 350\n",
        "df_KY.hist(bins=150, figsize=[12,6])\n",
        "plot.xlabel('KY code/#')\n",
        "plot.ylabel('Arrest  Frequency')"
      ],
      "metadata": {
        "colab": {
          "base_uri": "https://localhost:8080/",
          "height": 427
        },
        "id": "Unm5f1VKx76T",
        "outputId": "76ec835e-b31c-456e-f600-8c4316e8db99"
      },
      "execution_count": null,
      "outputs": [
        {
          "output_type": "execute_result",
          "data": {
            "text/plain": [
              "Text(0, 0.5, 'Arrest  Frequency')"
            ]
          },
          "metadata": {},
          "execution_count": 977
        },
        {
          "output_type": "display_data",
          "data": {
            "image/png": "[encoded data removed]",
            "text/plain": [
              "<Figure size 864x432 with 1 Axes>"
            ]
          },
          "metadata": {
            "needs_background": "light"
          }
        }
      ]
    },
    {
      "cell_type": "markdown",
      "source": [
        "# **Gender** \n",
        "- Male arrest is 5 times more probable than female"
      ],
      "metadata": {
        "id": "hsTuiTn_j6Qh"
      }
    },
    {
      "cell_type": "code",
      "source": [
        "#shows that males are arrested 5 times more than females\n",
        "df_gender = df[[\"GENDER\"]].value_counts()\n",
        "df_gender"
      ],
      "metadata": {
        "colab": {
          "base_uri": "https://localhost:8080/"
        },
        "id": "0N5eFmQ8OX-8",
        "outputId": "b6e5c86e-8cc0-4cb8-e776-e697d73a666b"
      },
      "execution_count": null,
      "outputs": [
        {
          "output_type": "execute_result",
          "data": {
            "text/plain": [
              "GENDER\n",
              "1         94826\n",
              "2         19334\n",
              "dtype: int64"
            ]
          },
          "metadata": {},
          "execution_count": 978
        }
      ]
    },
    {
      "cell_type": "code",
      "source": [
        "# Draw a vertical bar chart showing total Arrests by gender (1 = Male, 2 = Female)\n",
        "df_gender.plot.bar(x=\"GENDER\", rot=40, color=['green', 'blue'],title=\"Number of Arrests by Gender\");"
      ],
      "metadata": {
        "colab": {
          "base_uri": "https://localhost:8080/",
          "height": 306
        },
        "id": "yoNbxmWbtkj-",
        "outputId": "4ce1e027-ee76-4be1-f0cf-224ffaedb183"
      },
      "execution_count": null,
      "outputs": [
        {
          "output_type": "display_data",
          "data": {
            "image/png": "[encoded data removed]",
            "text/plain": [
              "<Figure size 432x288 with 1 Axes>"
            ]
          },
          "metadata": {
            "needs_background": "light"
          }
        }
      ]
    },
    {
      "cell_type": "markdown",
      "source": [
        "**Mean** age group 25 - 44"
      ],
      "metadata": {
        "id": "S3eIzMbMkOqO"
      }
    },
    {
      "cell_type": "code",
      "source": [
        "#Shows the age group 25-44 has 3 times the arrests that the other age groups have \n",
        "df_age = df[[\"AGE_GROUP\"]].value_counts().sort_index(ascending=True)\n",
        "df_age"
      ],
      "metadata": {
        "colab": {
          "base_uri": "https://localhost:8080/"
        },
        "id": "_JwZOczaalSS",
        "outputId": "d090145d-fad7-4bd7-e701-d8f0151a615e"
      },
      "execution_count": null,
      "outputs": [
        {
          "output_type": "execute_result",
          "data": {
            "text/plain": [
              "AGE_GROUP\n",
              "1             3408\n",
              "2            21774\n",
              "3            65109\n",
              "4            22214\n",
              "5             1655\n",
              "dtype: int64"
            ]
          },
          "metadata": {},
          "execution_count": 980
        }
      ]
    },
    {
      "cell_type": "code",
      "source": [
        "#Histogram showing mean age of arrest (category 3 = '25-44'), in this age group you are 3-5 times as likely to be arrested\n",
        "#in comparison to the other age groups\n",
        "df['AGE_GROUP'].hist(bins=5, figsize=[12,6], color='#9f0595', xlabelsize=12,ylabelsize=12,grid=True)\n",
        "plot.xlabel('Age Category')\n",
        "plot.ylabel('Frequency')"
      ],
      "metadata": {
        "colab": {
          "base_uri": "https://localhost:8080/",
          "height": 421
        },
        "id": "0OBZ0oDs59K2",
        "outputId": "16bf87fa-c41a-4646-edac-aa6c6bea6714"
      },
      "execution_count": null,
      "outputs": [
        {
          "output_type": "execute_result",
          "data": {
            "text/plain": [
              "Text(0, 0.5, 'Frequency')"
            ]
          },
          "metadata": {},
          "execution_count": 981
        },
        {
          "output_type": "display_data",
          "data": {
            "image/png": "[encoded data removed]",
            "text/plain": [
              "<Figure size 864x432 with 1 Axes>"
            ]
          },
          "metadata": {
            "needs_background": "light"
          }
        }
      ]
    },
    {
      "cell_type": "markdown",
      "source": [
        "**Younger persons** - 'Less than 18' years old"
      ],
      "metadata": {
        "id": "ORYNx_MqkbJO"
      }
    },
    {
      "cell_type": "code",
      "source": [
        "#Assault (KY_CD=344) is also the number 1 arrest for pers <18 years\n",
        "#Shows persons <18 years old  arrested for Assault by Borough\n",
        "dfYouth=df[(df.AGE_GROUP==1) & ((df.KY_CD==344.0))]\n",
        "dfYouth[[\"BOROUGH\"]].value_counts(ascending=True).plot.barh(x=\"Arrests\", rot=40, title=\"Number of <18 year old Arrests by Borough\",figsize=[12,6],color=(0.1, 0.1, 0.1, 0.1), edgecolor='blue')"
      ],
      "metadata": {
        "colab": {
          "base_uri": "https://localhost:8080/",
          "height": 412
        },
        "id": "D5PC4q4Z3QVI",
        "outputId": "4fbcac6d-159d-4d64-a92d-97f2cfa88b09"
      },
      "execution_count": null,
      "outputs": [
        {
          "output_type": "execute_result",
          "data": {
            "text/plain": [
              "<matplotlib.axes._subplots.AxesSubplot at 0x7f8359188ad0>"
            ]
          },
          "metadata": {},
          "execution_count": 982
        },
        {
          "output_type": "display_data",
          "data": {
            "image/png": "[encoded data removed]",
            "text/plain": [
              "<Figure size 864x432 with 1 Axes>"
            ]
          },
          "metadata": {
            "needs_background": "light"
          }
        }
      ]
    },
    {
      "cell_type": "code",
      "source": [
        "#Shows number of <18 year olds arrested for Assault by Gender\n",
        "dfYouth[[\"GENDER\"]].value_counts(ascending=True).plot.bar(x=\"Arrests\", rot=40, title=\"Number of <18 year old Arrests by Gender\",figsize=[10,6],color=['grey', 'blue'], edgecolor='blue')"
      ],
      "metadata": {
        "colab": {
          "base_uri": "https://localhost:8080/",
          "height": 435
        },
        "id": "zI0GEoJdOkcd",
        "outputId": "778ecebe-2a56-4548-d9f8-337b8acd771c"
      },
      "execution_count": null,
      "outputs": [
        {
          "output_type": "execute_result",
          "data": {
            "text/plain": [
              "<matplotlib.axes._subplots.AxesSubplot at 0x7f83591aaed0>"
            ]
          },
          "metadata": {},
          "execution_count": 983
        },
        {
          "output_type": "display_data",
          "data": {
            "image/png": "[encoded data removed]",
            "text/plain": [
              "<Figure size 720x432 with 1 Axes>"
            ]
          },
          "metadata": {
            "needs_background": "light"
          }
        }
      ]
    },
    {
      "cell_type": "markdown",
      "source": [
        "# Insights\n",
        "\n",
        "**Precincts/ Boroughs**\n",
        "\n",
        "- Brooklyn having the largest number of precincts (34) accounted for the highest number of arrests, Bronx per capita showed strong competition with Brooklyn as Bronx only has 12 precincts to Brooklyn's 34 precincts. It is safe to surmise that an increase# of precincts shows an increase number of arrests albeit not significantly. \n",
        "\n",
        "- The top 3 precincts showed arrests in excess of 3,000 (namely precincts 14(Manhattan), 75(Brooklyn), 40(Bronx). #1 being **Precinct#14.**\n",
        "\n",
        "- The probability of arrest is 5 - 6 times higher or likley in Brooklyn/ Bronx compared to Staten Island. This outcome is even greater for males compared to females.\n",
        "\n",
        "\n",
        "**Jurisdiction**\n",
        "\n",
        "- 91% of arrests are made by NYPD officers on **Patrol**. It would be interesting to know the actual timestamp to determine the time of day most arrests take place on Patrol. \n",
        "\n",
        "**Arrest Code (KY_CD-344)** \n",
        "- #1 Arrest code is Assault\n",
        "This arrest is 1.5 times more likely outcome than murder/ manslaughter.\n",
        "\n",
        "**Gender/ Age**\n",
        "- The probability of males being arrested is 5 times that of females - approx. 95,000 males: 19,000 females.  The mean age group arrested is 25-44, this is almost consistent across Boroughs and gender.\n",
        "\n",
        "**Younger persons** \n",
        "- The dataset shows that the likelihood of arrests of persons less than 18 years is similar to older counterparts especially for the number 1 arrest (Assault). The trend is similar across Boroughs despite the younger age group, even though the scale is significantly greater in older age group. Also, the 'less than 18' sample age group male to female arrests is approx 2:1 unlike the 5:1 for the population data. \n",
        "\n",
        "**Conclusion**\n",
        "- It is safe to note that safety will be a huge concern for prospective home buyers in the Boroughs that have a high number of arrests for any crime category compared to Staten Island. Prices of homes may be impacted by the significant arrests for various offenses.  The arrests trend for younger persons especially males is similar to older age group across the same Boroughs. This data could be used to help to create interventions targeting the younger age group to prevent/ reduce repeat offenses.\n"
      ],
      "metadata": {
        "id": "rUWQ8shtYQxK"
      }
    }
  ]
}